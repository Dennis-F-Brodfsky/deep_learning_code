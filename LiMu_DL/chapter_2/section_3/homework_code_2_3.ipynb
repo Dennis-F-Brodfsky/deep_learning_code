{
 "cells": [
  {
   "cell_type": "code",
   "execution_count": 1,
   "metadata": {},
   "outputs": [],
   "source": [
    "import torch\n",
    "x = torch.arange(12, dtype=torch.int8).reshape(3, 4)\n",
    "y = torch.arange(start=-6, end=6, dtype=torch.int8).reshape(3, 4)"
   ]
  },
  {
   "cell_type": "code",
   "execution_count": 3,
   "metadata": {},
   "outputs": [
    {
     "data": {
      "text/plain": [
       "tensor([[True, True, True, True],\n",
       "        [True, True, True, True],\n",
       "        [True, True, True, True]])"
      ]
     },
     "execution_count": 3,
     "metadata": {},
     "output_type": "execute_result"
    }
   ],
   "source": [
    "# 2.3.13 T1\n",
    "x.T.T == x"
   ]
  },
  {
   "cell_type": "code",
   "execution_count": 4,
   "metadata": {},
   "outputs": [
    {
     "name": "stdout",
     "output_type": "stream",
     "text": [
      "tensor([[-6,  2, 10],\n",
      "        [-4,  4, 12],\n",
      "        [-2,  6, 14],\n",
      "        [ 0,  8, 16]], dtype=torch.int8)\n",
      "tensor([[-6,  2, 10],\n",
      "        [-4,  4, 12],\n",
      "        [-2,  6, 14],\n",
      "        [ 0,  8, 16]], dtype=torch.int8)\n",
      "tensor([[True, True, True],\n",
      "        [True, True, True],\n",
      "        [True, True, True],\n",
      "        [True, True, True]])\n"
     ]
    }
   ],
   "source": [
    "# 2.3.13.T2\n",
    "print(x.T + y.T)\n",
    "print((x+y).T)\n",
    "print(x.T+y.T==(x+y).T)"
   ]
  },
  {
   "cell_type": "code",
   "execution_count": 5,
   "metadata": {},
   "outputs": [
    {
     "name": "stdout",
     "output_type": "stream",
     "text": [
      "2\n"
     ]
    }
   ],
   "source": [
    "# 2.3.13 T3\n",
    "X = torch.arange(24).reshape(2, 3, 4)\n",
    "print(len(X))"
   ]
  },
  {
   "cell_type": "code",
   "execution_count": 8,
   "metadata": {},
   "outputs": [
    {
     "name": "stdout",
     "output_type": "stream",
     "text": [
      "The size of tensor a (3) must match the size of tensor b (2) at non-singleton dimension 1\n",
      "tensor([[[0.0000, 0.0667, 0.1111, 0.1429],\n",
      "         [0.3333, 0.3333, 0.3333, 0.3333],\n",
      "         [0.6667, 0.6000, 0.5556, 0.5238]],\n",
      "\n",
      "        [[0.2500, 0.2549, 0.2593, 0.2632],\n",
      "         [0.3333, 0.3333, 0.3333, 0.3333],\n",
      "         [0.4167, 0.4118, 0.4074, 0.4035]]])\n"
     ]
    }
   ],
   "source": [
    "# 2.3.13 T3\n",
    "# wrong code\n",
    "try:\n",
    "    print(X/X.sum(axis=1))\n",
    "except RuntimeError as e:\n",
    "    print(e)\n",
    "# after debug\n",
    "print(X/X.sum(axis=1, keepdim=True))"
   ]
  },
  {
   "cell_type": "code",
   "execution_count": 7,
   "metadata": {},
   "outputs": [
    {
     "name": "stdout",
     "output_type": "stream",
     "text": [
      "torch.Size([3, 4])\n",
      "torch.Size([2, 4])\n",
      "torch.Size([2, 3])\n"
     ]
    }
   ],
   "source": [
    "# 2.3.13 T3\n",
    "print(X.sum(axis=0).shape)\n",
    "print(X.sum(axis=1).shape)\n",
    "print(X.sum(axis=2).shape)"
   ]
  },
  {
   "cell_type": "code",
   "execution_count": 15,
   "metadata": {},
   "outputs": [
    {
     "data": {
      "text/plain": [
       "tensor(65.7571)"
      ]
     },
     "execution_count": 15,
     "metadata": {},
     "output_type": "execute_result"
    }
   ],
   "source": [
    "# 2.3.13 T3\n",
    "# 返回X展平成1维之后2-范数\n",
    "torch.linalg.norm(X.float())"
   ]
  },
  {
   "cell_type": "code",
   "execution_count": null,
   "metadata": {},
   "outputs": [],
   "source": []
  }
 ],
 "metadata": {
  "interpreter": {
   "hash": "06f77016d31ee832f65100d09d66ee6db3390d0f686eae4accd2b20acd76aa64"
  },
  "kernelspec": {
   "display_name": "Python 3.9.12 ('ML')",
   "language": "python",
   "name": "python3"
  },
  "language_info": {
   "codemirror_mode": {
    "name": "ipython",
    "version": 3
   },
   "file_extension": ".py",
   "mimetype": "text/x-python",
   "name": "python",
   "nbconvert_exporter": "python",
   "pygments_lexer": "ipython3",
   "version": "3.9.12"
  },
  "orig_nbformat": 4
 },
 "nbformat": 4,
 "nbformat_minor": 2
}
