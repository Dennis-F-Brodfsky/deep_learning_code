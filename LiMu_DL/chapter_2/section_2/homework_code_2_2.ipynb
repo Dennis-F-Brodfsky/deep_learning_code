{
 "cells": [
  {
   "cell_type": "code",
   "execution_count": 1,
   "metadata": {},
   "outputs": [],
   "source": [
    "\n",
    "import pandas as pd\n",
    "import numpy as np\n",
    "import torch"
   ]
  },
  {
   "cell_type": "code",
   "execution_count": 2,
   "metadata": {},
   "outputs": [
    {
     "name": "stdout",
     "output_type": "stream",
     "text": [
      "<class 'pandas.core.frame.DataFrame'>\n",
      "RangeIndex: 95284 entries, 0 to 95283\n",
      "Data columns (total 8 columns):\n",
      " #   Column           Non-Null Count  Dtype  \n",
      "---  ------           --------------  -----  \n",
      " 0   SNo              95284 non-null  int64  \n",
      " 1   ObservationDate  95284 non-null  object \n",
      " 2   Province/State   64803 non-null  object \n",
      " 3   Country/Region   95284 non-null  object \n",
      " 4   Last Update      95284 non-null  object \n",
      " 5   Confirmed        95284 non-null  float64\n",
      " 6   Deaths           95284 non-null  float64\n",
      " 7   Recovered        95284 non-null  float64\n",
      "dtypes: float64(3), int64(1), object(4)\n",
      "memory usage: 5.8+ MB\n"
     ]
    }
   ],
   "source": [
    "X = pd.read_csv(r'C:\\Users\\Public\\Documents\\Data\\kaggle data\\covid-datasets\\covid_19_data.csv')\n",
    "X.info()"
   ]
  },
  {
   "cell_type": "code",
   "execution_count": 3,
   "metadata": {},
   "outputs": [
    {
     "name": "stdout",
     "output_type": "stream",
     "text": [
      "<class 'pandas.core.frame.DataFrame'>\n",
      "RangeIndex: 95284 entries, 0 to 95283\n",
      "Data columns (total 7 columns):\n",
      " #   Column           Non-Null Count  Dtype  \n",
      "---  ------           --------------  -----  \n",
      " 0   SNo              95284 non-null  int64  \n",
      " 1   ObservationDate  95284 non-null  object \n",
      " 2   Country/Region   95284 non-null  object \n",
      " 3   Last Update      95284 non-null  object \n",
      " 4   Confirmed        95284 non-null  float64\n",
      " 5   Deaths           95284 non-null  float64\n",
      " 6   Recovered        95284 non-null  float64\n",
      "dtypes: float64(3), int64(1), object(3)\n",
      "memory usage: 5.1+ MB\n"
     ]
    }
   ],
   "source": [
    "# 2.2.5 T1\n",
    "X.drop(X.columns[np.argmax(X.isnull().sum())], axis=1, inplace=True)\n",
    "X.info()"
   ]
  },
  {
   "cell_type": "code",
   "execution_count": 7,
   "metadata": {},
   "outputs": [
    {
     "data": {
      "text/plain": [
       "tensor([[1.0000e+00, 1.0000e+00, 0.0000e+00, 0.0000e+00],\n",
       "        [2.0000e+00, 1.4000e+01, 0.0000e+00, 0.0000e+00],\n",
       "        [3.0000e+00, 6.0000e+00, 0.0000e+00, 0.0000e+00],\n",
       "        ...,\n",
       "        [9.5282e+04, 1.2770e+03, 1.0000e+00, 1.2680e+03],\n",
       "        [9.5283e+04, 2.9230e+03, 6.0000e+01, 1.7530e+03],\n",
       "        [9.5284e+04, 1.8118e+04, 1.3390e+03, 0.0000e+00]], dtype=torch.float64)"
      ]
     },
     "execution_count": 7,
     "metadata": {},
     "output_type": "execute_result"
    }
   ],
   "source": [
    "# 2.2.5 T2\n",
    "# torch 不支持转换类型为Object的Numpy Array\n",
    "X_train = torch.tensor(X[['SNo', 'Confirmed', 'Deaths','Recovered']].values)\n",
    "X_train"
   ]
  }
 ],
 "metadata": {
  "interpreter": {
   "hash": "06f77016d31ee832f65100d09d66ee6db3390d0f686eae4accd2b20acd76aa64"
  },
  "kernelspec": {
   "display_name": "Python 3.9.12 ('ML')",
   "language": "python",
   "name": "python3"
  },
  "language_info": {
   "codemirror_mode": {
    "name": "ipython",
    "version": 3
   },
   "file_extension": ".py",
   "mimetype": "text/x-python",
   "name": "python",
   "nbconvert_exporter": "python",
   "pygments_lexer": "ipython3",
   "version": "3.9.12"
  },
  "orig_nbformat": 4
 },
 "nbformat": 4,
 "nbformat_minor": 2
}
