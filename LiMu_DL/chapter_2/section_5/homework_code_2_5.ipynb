{
 "cells": [
  {
   "cell_type": "code",
   "execution_count": 1,
   "metadata": {},
   "outputs": [],
   "source": [
    "import torch\n",
    "x = torch.arange(4.0)\n",
    "x.requires_grad_(True)\n",
    "x.grad"
   ]
  },
  {
   "cell_type": "code",
   "execution_count": 2,
   "metadata": {},
   "outputs": [
    {
     "data": {
      "text/plain": [
       "(tensor([ 0.,  4.,  8., 12.]), tensor([True, True, True, True]))"
      ]
     },
     "execution_count": 2,
     "metadata": {},
     "output_type": "execute_result"
    }
   ],
   "source": [
    "y = 2*torch.dot(x, x)\n",
    "y.backward(retain_graph=True)\n",
    "x.grad, x.grad == 4*x"
   ]
  },
  {
   "cell_type": "code",
   "execution_count": 3,
   "metadata": {},
   "outputs": [
    {
     "name": "stdout",
     "output_type": "stream",
     "text": [
      "tensor([ 0.,  8., 16., 24.])\n"
     ]
    },
    {
     "data": {
      "text/plain": [
       "(tensor([ 0.,  4.,  8., 12.]), tensor([True, True, True, True]))"
      ]
     },
     "execution_count": 3,
     "metadata": {},
     "output_type": "execute_result"
    }
   ],
   "source": [
    "# 2.3.6 T2\n",
    "# 如果忘记清空x的gradient直接再一次调用无retain_graph=True的backward的话，会有RuntimeError\n",
    "# 但是如果调用retain_graph=True的backward，需要记得清空x的gradient\n",
    "try:\n",
    "    y.backward(retain_graph=True)\n",
    "    print(x.grad)\n",
    "except RuntimeError as e:\n",
    "    print(\"RuntimeError: \", e)\n",
    "# after debug\n",
    "x.grad.zero_()\n",
    "y.backward()\n",
    "x.grad, x.grad == 4*x"
   ]
  },
  {
   "cell_type": "code",
   "execution_count": 4,
   "metadata": {},
   "outputs": [
    {
     "data": {
      "text/plain": [
       "(tensor([512., 512., 512.]), tensor([True, True, True]))"
      ]
     },
     "execution_count": 4,
     "metadata": {},
     "output_type": "execute_result"
    }
   ],
   "source": [
    "# 2.3.6 T3\n",
    "def f(a):\n",
    "    b = a*2\n",
    "    while b.norm() < 1000:\n",
    "        b = b*2\n",
    "    if b.sum() > 0:\n",
    "        c = b\n",
    "    else:\n",
    "        c = 100*b\n",
    "    return c\n",
    "\n",
    "arr = torch.tensor([1.0, 2.0, -1.0], requires_grad=True)\n",
    "d = f(arr)\n",
    "d.sum().backward()  # 如果函数传入向量，返回向量，那么需要用sum求和再求梯度\n",
    "arr.grad, arr.grad == d/arr"
   ]
  },
  {
   "cell_type": "code",
   "execution_count": 7,
   "metadata": {},
   "outputs": [
    {
     "name": "stdout",
     "output_type": "stream",
     "text": [
      "tensor(1.)\n",
      "tensor([-1.,  1.])\n"
     ]
    }
   ],
   "source": [
    "def g(x):\n",
    "    return torch.abs(x)\n",
    "\n",
    "scalar = torch.tensor(5., requires_grad=True)\n",
    "d1 = g(scalar)\n",
    "d1.backward()\n",
    "print(scalar.grad)\n",
    "vec = torch.tensor([-3., 4.], requires_grad=True)\n",
    "d2 = g(vec)\n",
    "d2.sum().backward()\n",
    "print(vec.grad)"
   ]
  },
  {
   "cell_type": "code",
   "execution_count": 8,
   "metadata": {},
   "outputs": [],
   "source": [
    "%matplotlib inline\n",
    "import numpy as np\n",
    "from IPython import display\n",
    "import matplotlib.pyplot as plt\n",
    "from matplotlib_inline import backend_inline\n",
    "\n",
    "\n",
    "def use_svg_display():\n",
    "    \"\"\"使用svg格式在Jupyter中显示绘图\n",
    "\n",
    "    Defined in :numref:`sec_calculus`\"\"\"\n",
    "    backend_inline.set_matplotlib_formats('svg')\n",
    "\n",
    "def set_figsize(figsize=(3.5, 2.5)):\n",
    "    \"\"\"设置matplotlib的图表大小\n",
    "\n",
    "    Defined in :numref:`sec_calculus`\"\"\"\n",
    "    use_svg_display()\n",
    "    plt.rcParams['figure.figsize'] = figsize\n",
    "\n",
    "def set_axes(axes, xlabel, ylabel, xlim, ylim, xscale, yscale, legend):\n",
    "    \"\"\"设置matplotlib的轴\n",
    "\n",
    "    Defined in :numref:`sec_calculus`\"\"\"\n",
    "    axes.set_xlabel(xlabel)\n",
    "    axes.set_ylabel(ylabel)\n",
    "    axes.set_xscale(xscale)\n",
    "    axes.set_yscale(yscale)\n",
    "    axes.set_xlim(xlim)\n",
    "    axes.set_ylim(ylim)\n",
    "    if legend:\n",
    "        axes.legend(legend)\n",
    "    axes.grid()\n",
    "\n",
    "def plot(X, Y=None, xlabel=None, ylabel=None, legend=None, xlim=None,\n",
    "         ylim=None, xscale='linear', yscale='linear',\n",
    "         fmts=('-', 'm--', 'g-.', 'r:'), figsize=(3.5, 2.5), axes=None):\n",
    "    \"\"\"绘制数据点\n",
    "\n",
    "    Defined in :numref:`sec_calculus`\"\"\"\n",
    "    if legend is None:\n",
    "        legend = []\n",
    "\n",
    "    set_figsize(figsize)\n",
    "    axes = axes if axes else plt.gca()\n",
    "\n",
    "    # 如果X有一个轴，输出True\n",
    "    def has_one_axis(X):\n",
    "        return (hasattr(X, \"ndim\") and X.ndim == 1 or isinstance(X, list)\n",
    "                and not hasattr(X[0], \"__len__\"))\n",
    "\n",
    "    # 以下代码主要是考虑有x，y的时候实现多线画图\n",
    "    # 无x的时候，默认x轴多线画图。\n",
    "    #多线画图，就是要将输入转换为List[List[x]]类型。所以进行了若干分类讨论。\n",
    "    if has_one_axis(X):\n",
    "        X = [X]\n",
    "    if Y is None:\n",
    "        X, Y = [[]] * len(X), X\n",
    "    elif has_one_axis(Y):\n",
    "        Y = [Y]\n",
    "    if len(X) != len(Y):\n",
    "        X = X * len(Y)\n",
    "    axes.cla()\n",
    "    for x, y, fmt in zip(X, Y, fmts):\n",
    "        if len(x):\n",
    "            axes.plot(x, y, fmt)\n",
    "        else:\n",
    "            axes.plot(y, fmt)\n",
    "    set_axes(axes, xlabel, ylabel, xlim, ylim, xscale, yscale, legend)"
   ]
  },
  {
   "cell_type": "code",
   "execution_count": 11,
   "metadata": {},
   "outputs": [
    {
     "data": {
      "image/svg+xml": "<?xml version=\"1.0\" encoding=\"utf-8\" standalone=\"no\"?>\n<!DOCTYPE svg PUBLIC \"-//W3C//DTD SVG 1.1//EN\"\n  \"http://www.w3.org/Graphics/SVG/1.1/DTD/svg11.dtd\">\n<svg xmlns:xlink=\"http://www.w3.org/1999/xlink\" width=\"498.445312pt\" height=\"357.238125pt\" viewBox=\"0 0 498.445312 357.238125\" xmlns=\"http://www.w3.org/2000/svg\" version=\"1.1\">\n <metadata>\n  <rdf:RDF xmlns:dc=\"http://purl.org/dc/elements/1.1/\" xmlns:cc=\"http://creativecommons.org/ns#\" xmlns:rdf=\"http://www.w3.org/1999/02/22-rdf-syntax-ns#\">\n   <cc:Work>\n    <dc:type rdf:resource=\"http://purl.org/dc/dcmitype/StillImage\"/>\n    <dc:date>2022-05-28T11:11:00.918281</dc:date>\n    <dc:format>image/svg+xml</dc:format>\n    <dc:creator>\n     <cc:Agent>\n      <dc:title>Matplotlib v3.5.1, https://matplotlib.org/</dc:title>\n     </cc:Agent>\n    </dc:creator>\n   </cc:Work>\n  </rdf:RDF>\n </metadata>\n <defs>\n  <style type=\"text/css\">*{stroke-linejoin: round; stroke-linecap: butt}</style>\n </defs>\n <g id=\"figure_1\">\n  <g id=\"patch_1\">\n   <path d=\"M 0 357.238125 \nL 498.445312 357.238125 \nL 498.445312 0 \nL 0 0 \nL 0 357.238125 \nz\n\" style=\"fill: none\"/>\n  </g>\n  <g id=\"axes_1\">\n   <g id=\"patch_2\">\n    <path d=\"M 44.845313 333.36 \nL 491.245312 333.36 \nL 491.245312 7.2 \nL 44.845313 7.2 \nz\n\" style=\"fill: #ffffff\"/>\n   </g>\n   <g id=\"matplotlib.axis_1\">\n    <g id=\"xtick_1\">\n     <g id=\"line2d_1\">\n      <path d=\"M 74.286048 333.36 \nL 74.286048 7.2 \n\" clip-path=\"url(#pd0a1ce54ed)\" style=\"fill: none; stroke: #b0b0b0; stroke-width: 0.8; stroke-linecap: square\"/>\n     </g>\n     <g id=\"line2d_2\">\n      <defs>\n       <path id=\"m756dad1ce1\" d=\"M 0 0 \nL 0 3.5 \n\" style=\"stroke: #000000; stroke-width: 0.8\"/>\n      </defs>\n      <g>\n       <use xlink:href=\"#m756dad1ce1\" x=\"74.286048\" y=\"333.36\" style=\"stroke: #000000; stroke-width: 0.8\"/>\n      </g>\n     </g>\n     <g id=\"text_1\">\n      <!-- −6 -->\n      <g transform=\"translate(66.914954 347.958438)scale(0.1 -0.1)\">\n       <defs>\n        <path id=\"DejaVuSans-2212\" d=\"M 678 2272 \nL 4684 2272 \nL 4684 1741 \nL 678 1741 \nL 678 2272 \nz\n\" transform=\"scale(0.015625)\"/>\n        <path id=\"DejaVuSans-36\" d=\"M 2113 2584 \nQ 1688 2584 1439 2293 \nQ 1191 2003 1191 1497 \nQ 1191 994 1439 701 \nQ 1688 409 2113 409 \nQ 2538 409 2786 701 \nQ 3034 994 3034 1497 \nQ 3034 2003 2786 2293 \nQ 2538 2584 2113 2584 \nz\nM 3366 4563 \nL 3366 3988 \nQ 3128 4100 2886 4159 \nQ 2644 4219 2406 4219 \nQ 1781 4219 1451 3797 \nQ 1122 3375 1075 2522 \nQ 1259 2794 1537 2939 \nQ 1816 3084 2150 3084 \nQ 2853 3084 3261 2657 \nQ 3669 2231 3669 1497 \nQ 3669 778 3244 343 \nQ 2819 -91 2113 -91 \nQ 1303 -91 875 529 \nQ 447 1150 447 2328 \nQ 447 3434 972 4092 \nQ 1497 4750 2381 4750 \nQ 2619 4750 2861 4703 \nQ 3103 4656 3366 4563 \nz\n\" transform=\"scale(0.015625)\"/>\n       </defs>\n       <use xlink:href=\"#DejaVuSans-2212\"/>\n       <use xlink:href=\"#DejaVuSans-36\" x=\"83.789062\"/>\n      </g>\n     </g>\n    </g>\n    <g id=\"xtick_2\">\n     <g id=\"line2d_3\">\n      <path d=\"M 138.906778 333.36 \nL 138.906778 7.2 \n\" clip-path=\"url(#pd0a1ce54ed)\" style=\"fill: none; stroke: #b0b0b0; stroke-width: 0.8; stroke-linecap: square\"/>\n     </g>\n     <g id=\"line2d_4\">\n      <g>\n       <use xlink:href=\"#m756dad1ce1\" x=\"138.906778\" y=\"333.36\" style=\"stroke: #000000; stroke-width: 0.8\"/>\n      </g>\n     </g>\n     <g id=\"text_2\">\n      <!-- −4 -->\n      <g transform=\"translate(131.535684 347.958438)scale(0.1 -0.1)\">\n       <defs>\n        <path id=\"DejaVuSans-34\" d=\"M 2419 4116 \nL 825 1625 \nL 2419 1625 \nL 2419 4116 \nz\nM 2253 4666 \nL 3047 4666 \nL 3047 1625 \nL 3713 1625 \nL 3713 1100 \nL 3047 1100 \nL 3047 0 \nL 2419 0 \nL 2419 1100 \nL 313 1100 \nL 313 1709 \nL 2253 4666 \nz\n\" transform=\"scale(0.015625)\"/>\n       </defs>\n       <use xlink:href=\"#DejaVuSans-2212\"/>\n       <use xlink:href=\"#DejaVuSans-34\" x=\"83.789062\"/>\n      </g>\n     </g>\n    </g>\n    <g id=\"xtick_3\">\n     <g id=\"line2d_5\">\n      <path d=\"M 203.527508 333.36 \nL 203.527508 7.2 \n\" clip-path=\"url(#pd0a1ce54ed)\" style=\"fill: none; stroke: #b0b0b0; stroke-width: 0.8; stroke-linecap: square\"/>\n     </g>\n     <g id=\"line2d_6\">\n      <g>\n       <use xlink:href=\"#m756dad1ce1\" x=\"203.527508\" y=\"333.36\" style=\"stroke: #000000; stroke-width: 0.8\"/>\n      </g>\n     </g>\n     <g id=\"text_3\">\n      <!-- −2 -->\n      <g transform=\"translate(196.156414 347.958438)scale(0.1 -0.1)\">\n       <defs>\n        <path id=\"DejaVuSans-32\" d=\"M 1228 531 \nL 3431 531 \nL 3431 0 \nL 469 0 \nL 469 531 \nQ 828 903 1448 1529 \nQ 2069 2156 2228 2338 \nQ 2531 2678 2651 2914 \nQ 2772 3150 2772 3378 \nQ 2772 3750 2511 3984 \nQ 2250 4219 1831 4219 \nQ 1534 4219 1204 4116 \nQ 875 4013 500 3803 \nL 500 4441 \nQ 881 4594 1212 4672 \nQ 1544 4750 1819 4750 \nQ 2544 4750 2975 4387 \nQ 3406 4025 3406 3419 \nQ 3406 3131 3298 2873 \nQ 3191 2616 2906 2266 \nQ 2828 2175 2409 1742 \nQ 1991 1309 1228 531 \nz\n\" transform=\"scale(0.015625)\"/>\n       </defs>\n       <use xlink:href=\"#DejaVuSans-2212\"/>\n       <use xlink:href=\"#DejaVuSans-32\" x=\"83.789062\"/>\n      </g>\n     </g>\n    </g>\n    <g id=\"xtick_4\">\n     <g id=\"line2d_7\">\n      <path d=\"M 268.148238 333.36 \nL 268.148238 7.2 \n\" clip-path=\"url(#pd0a1ce54ed)\" style=\"fill: none; stroke: #b0b0b0; stroke-width: 0.8; stroke-linecap: square\"/>\n     </g>\n     <g id=\"line2d_8\">\n      <g>\n       <use xlink:href=\"#m756dad1ce1\" x=\"268.148238\" y=\"333.36\" style=\"stroke: #000000; stroke-width: 0.8\"/>\n      </g>\n     </g>\n     <g id=\"text_4\">\n      <!-- 0 -->\n      <g transform=\"translate(264.966988 347.958438)scale(0.1 -0.1)\">\n       <defs>\n        <path id=\"DejaVuSans-30\" d=\"M 2034 4250 \nQ 1547 4250 1301 3770 \nQ 1056 3291 1056 2328 \nQ 1056 1369 1301 889 \nQ 1547 409 2034 409 \nQ 2525 409 2770 889 \nQ 3016 1369 3016 2328 \nQ 3016 3291 2770 3770 \nQ 2525 4250 2034 4250 \nz\nM 2034 4750 \nQ 2819 4750 3233 4129 \nQ 3647 3509 3647 2328 \nQ 3647 1150 3233 529 \nQ 2819 -91 2034 -91 \nQ 1250 -91 836 529 \nQ 422 1150 422 2328 \nQ 422 3509 836 4129 \nQ 1250 4750 2034 4750 \nz\n\" transform=\"scale(0.015625)\"/>\n       </defs>\n       <use xlink:href=\"#DejaVuSans-30\"/>\n      </g>\n     </g>\n    </g>\n    <g id=\"xtick_5\">\n     <g id=\"line2d_9\">\n      <path d=\"M 332.768967 333.36 \nL 332.768967 7.2 \n\" clip-path=\"url(#pd0a1ce54ed)\" style=\"fill: none; stroke: #b0b0b0; stroke-width: 0.8; stroke-linecap: square\"/>\n     </g>\n     <g id=\"line2d_10\">\n      <g>\n       <use xlink:href=\"#m756dad1ce1\" x=\"332.768967\" y=\"333.36\" style=\"stroke: #000000; stroke-width: 0.8\"/>\n      </g>\n     </g>\n     <g id=\"text_5\">\n      <!-- 2 -->\n      <g transform=\"translate(329.587717 347.958438)scale(0.1 -0.1)\">\n       <use xlink:href=\"#DejaVuSans-32\"/>\n      </g>\n     </g>\n    </g>\n    <g id=\"xtick_6\">\n     <g id=\"line2d_11\">\n      <path d=\"M 397.389697 333.36 \nL 397.389697 7.2 \n\" clip-path=\"url(#pd0a1ce54ed)\" style=\"fill: none; stroke: #b0b0b0; stroke-width: 0.8; stroke-linecap: square\"/>\n     </g>\n     <g id=\"line2d_12\">\n      <g>\n       <use xlink:href=\"#m756dad1ce1\" x=\"397.389697\" y=\"333.36\" style=\"stroke: #000000; stroke-width: 0.8\"/>\n      </g>\n     </g>\n     <g id=\"text_6\">\n      <!-- 4 -->\n      <g transform=\"translate(394.208447 347.958438)scale(0.1 -0.1)\">\n       <use xlink:href=\"#DejaVuSans-34\"/>\n      </g>\n     </g>\n    </g>\n    <g id=\"xtick_7\">\n     <g id=\"line2d_13\">\n      <path d=\"M 462.010427 333.36 \nL 462.010427 7.2 \n\" clip-path=\"url(#pd0a1ce54ed)\" style=\"fill: none; stroke: #b0b0b0; stroke-width: 0.8; stroke-linecap: square\"/>\n     </g>\n     <g id=\"line2d_14\">\n      <g>\n       <use xlink:href=\"#m756dad1ce1\" x=\"462.010427\" y=\"333.36\" style=\"stroke: #000000; stroke-width: 0.8\"/>\n      </g>\n     </g>\n     <g id=\"text_7\">\n      <!-- 6 -->\n      <g transform=\"translate(458.829177 347.958438)scale(0.1 -0.1)\">\n       <use xlink:href=\"#DejaVuSans-36\"/>\n      </g>\n     </g>\n    </g>\n   </g>\n   <g id=\"matplotlib.axis_2\">\n    <g id=\"ytick_1\">\n     <g id=\"line2d_15\">\n      <path d=\"M 44.845313 318.534731 \nL 491.245312 318.534731 \n\" clip-path=\"url(#pd0a1ce54ed)\" style=\"fill: none; stroke: #b0b0b0; stroke-width: 0.8; stroke-linecap: square\"/>\n     </g>\n     <g id=\"line2d_16\">\n      <defs>\n       <path id=\"mc0c63d8d07\" d=\"M 0 0 \nL -3.5 0 \n\" style=\"stroke: #000000; stroke-width: 0.8\"/>\n      </defs>\n      <g>\n       <use xlink:href=\"#mc0c63d8d07\" x=\"44.845313\" y=\"318.534731\" style=\"stroke: #000000; stroke-width: 0.8\"/>\n      </g>\n     </g>\n     <g id=\"text_8\">\n      <!-- −1.00 -->\n      <g transform=\"translate(7.2 322.33395)scale(0.1 -0.1)\">\n       <defs>\n        <path id=\"DejaVuSans-31\" d=\"M 794 531 \nL 1825 531 \nL 1825 4091 \nL 703 3866 \nL 703 4441 \nL 1819 4666 \nL 2450 4666 \nL 2450 531 \nL 3481 531 \nL 3481 0 \nL 794 0 \nL 794 531 \nz\n\" transform=\"scale(0.015625)\"/>\n        <path id=\"DejaVuSans-2e\" d=\"M 684 794 \nL 1344 794 \nL 1344 0 \nL 684 0 \nL 684 794 \nz\n\" transform=\"scale(0.015625)\"/>\n       </defs>\n       <use xlink:href=\"#DejaVuSans-2212\"/>\n       <use xlink:href=\"#DejaVuSans-31\" x=\"83.789062\"/>\n       <use xlink:href=\"#DejaVuSans-2e\" x=\"147.412109\"/>\n       <use xlink:href=\"#DejaVuSans-30\" x=\"179.199219\"/>\n       <use xlink:href=\"#DejaVuSans-30\" x=\"242.822266\"/>\n      </g>\n     </g>\n    </g>\n    <g id=\"ytick_2\">\n     <g id=\"line2d_17\">\n      <path d=\"M 44.845313 281.471071 \nL 491.245312 281.471071 \n\" clip-path=\"url(#pd0a1ce54ed)\" style=\"fill: none; stroke: #b0b0b0; stroke-width: 0.8; stroke-linecap: square\"/>\n     </g>\n     <g id=\"line2d_18\">\n      <g>\n       <use xlink:href=\"#mc0c63d8d07\" x=\"44.845313\" y=\"281.471071\" style=\"stroke: #000000; stroke-width: 0.8\"/>\n      </g>\n     </g>\n     <g id=\"text_9\">\n      <!-- −0.75 -->\n      <g transform=\"translate(7.2 285.27029)scale(0.1 -0.1)\">\n       <defs>\n        <path id=\"DejaVuSans-37\" d=\"M 525 4666 \nL 3525 4666 \nL 3525 4397 \nL 1831 0 \nL 1172 0 \nL 2766 4134 \nL 525 4134 \nL 525 4666 \nz\n\" transform=\"scale(0.015625)\"/>\n        <path id=\"DejaVuSans-35\" d=\"M 691 4666 \nL 3169 4666 \nL 3169 4134 \nL 1269 4134 \nL 1269 2991 \nQ 1406 3038 1543 3061 \nQ 1681 3084 1819 3084 \nQ 2600 3084 3056 2656 \nQ 3513 2228 3513 1497 \nQ 3513 744 3044 326 \nQ 2575 -91 1722 -91 \nQ 1428 -91 1123 -41 \nQ 819 9 494 109 \nL 494 744 \nQ 775 591 1075 516 \nQ 1375 441 1709 441 \nQ 2250 441 2565 725 \nQ 2881 1009 2881 1497 \nQ 2881 1984 2565 2268 \nQ 2250 2553 1709 2553 \nQ 1456 2553 1204 2497 \nQ 953 2441 691 2322 \nL 691 4666 \nz\n\" transform=\"scale(0.015625)\"/>\n       </defs>\n       <use xlink:href=\"#DejaVuSans-2212\"/>\n       <use xlink:href=\"#DejaVuSans-30\" x=\"83.789062\"/>\n       <use xlink:href=\"#DejaVuSans-2e\" x=\"147.412109\"/>\n       <use xlink:href=\"#DejaVuSans-37\" x=\"179.199219\"/>\n       <use xlink:href=\"#DejaVuSans-35\" x=\"242.822266\"/>\n      </g>\n     </g>\n    </g>\n    <g id=\"ytick_3\">\n     <g id=\"line2d_19\">\n      <path d=\"M 44.845313 244.407412 \nL 491.245312 244.407412 \n\" clip-path=\"url(#pd0a1ce54ed)\" style=\"fill: none; stroke: #b0b0b0; stroke-width: 0.8; stroke-linecap: square\"/>\n     </g>\n     <g id=\"line2d_20\">\n      <g>\n       <use xlink:href=\"#mc0c63d8d07\" x=\"44.845313\" y=\"244.407412\" style=\"stroke: #000000; stroke-width: 0.8\"/>\n      </g>\n     </g>\n     <g id=\"text_10\">\n      <!-- −0.50 -->\n      <g transform=\"translate(7.2 248.206631)scale(0.1 -0.1)\">\n       <use xlink:href=\"#DejaVuSans-2212\"/>\n       <use xlink:href=\"#DejaVuSans-30\" x=\"83.789062\"/>\n       <use xlink:href=\"#DejaVuSans-2e\" x=\"147.412109\"/>\n       <use xlink:href=\"#DejaVuSans-35\" x=\"179.199219\"/>\n       <use xlink:href=\"#DejaVuSans-30\" x=\"242.822266\"/>\n      </g>\n     </g>\n    </g>\n    <g id=\"ytick_4\">\n     <g id=\"line2d_21\">\n      <path d=\"M 44.845313 207.343752 \nL 491.245312 207.343752 \n\" clip-path=\"url(#pd0a1ce54ed)\" style=\"fill: none; stroke: #b0b0b0; stroke-width: 0.8; stroke-linecap: square\"/>\n     </g>\n     <g id=\"line2d_22\">\n      <g>\n       <use xlink:href=\"#mc0c63d8d07\" x=\"44.845313\" y=\"207.343752\" style=\"stroke: #000000; stroke-width: 0.8\"/>\n      </g>\n     </g>\n     <g id=\"text_11\">\n      <!-- −0.25 -->\n      <g transform=\"translate(7.2 211.142971)scale(0.1 -0.1)\">\n       <use xlink:href=\"#DejaVuSans-2212\"/>\n       <use xlink:href=\"#DejaVuSans-30\" x=\"83.789062\"/>\n       <use xlink:href=\"#DejaVuSans-2e\" x=\"147.412109\"/>\n       <use xlink:href=\"#DejaVuSans-32\" x=\"179.199219\"/>\n       <use xlink:href=\"#DejaVuSans-35\" x=\"242.822266\"/>\n      </g>\n     </g>\n    </g>\n    <g id=\"ytick_5\">\n     <g id=\"line2d_23\">\n      <path d=\"M 44.845313 170.280093 \nL 491.245312 170.280093 \n\" clip-path=\"url(#pd0a1ce54ed)\" style=\"fill: none; stroke: #b0b0b0; stroke-width: 0.8; stroke-linecap: square\"/>\n     </g>\n     <g id=\"line2d_24\">\n      <g>\n       <use xlink:href=\"#mc0c63d8d07\" x=\"44.845313\" y=\"170.280093\" style=\"stroke: #000000; stroke-width: 0.8\"/>\n      </g>\n     </g>\n     <g id=\"text_12\">\n      <!-- 0.00 -->\n      <g transform=\"translate(15.579688 174.079312)scale(0.1 -0.1)\">\n       <use xlink:href=\"#DejaVuSans-30\"/>\n       <use xlink:href=\"#DejaVuSans-2e\" x=\"63.623047\"/>\n       <use xlink:href=\"#DejaVuSans-30\" x=\"95.410156\"/>\n       <use xlink:href=\"#DejaVuSans-30\" x=\"159.033203\"/>\n      </g>\n     </g>\n    </g>\n    <g id=\"ytick_6\">\n     <g id=\"line2d_25\">\n      <path d=\"M 44.845313 133.216433 \nL 491.245312 133.216433 \n\" clip-path=\"url(#pd0a1ce54ed)\" style=\"fill: none; stroke: #b0b0b0; stroke-width: 0.8; stroke-linecap: square\"/>\n     </g>\n     <g id=\"line2d_26\">\n      <g>\n       <use xlink:href=\"#mc0c63d8d07\" x=\"44.845313\" y=\"133.216433\" style=\"stroke: #000000; stroke-width: 0.8\"/>\n      </g>\n     </g>\n     <g id=\"text_13\">\n      <!-- 0.25 -->\n      <g transform=\"translate(15.579688 137.015652)scale(0.1 -0.1)\">\n       <use xlink:href=\"#DejaVuSans-30\"/>\n       <use xlink:href=\"#DejaVuSans-2e\" x=\"63.623047\"/>\n       <use xlink:href=\"#DejaVuSans-32\" x=\"95.410156\"/>\n       <use xlink:href=\"#DejaVuSans-35\" x=\"159.033203\"/>\n      </g>\n     </g>\n    </g>\n    <g id=\"ytick_7\">\n     <g id=\"line2d_27\">\n      <path d=\"M 44.845313 96.152774 \nL 491.245312 96.152774 \n\" clip-path=\"url(#pd0a1ce54ed)\" style=\"fill: none; stroke: #b0b0b0; stroke-width: 0.8; stroke-linecap: square\"/>\n     </g>\n     <g id=\"line2d_28\">\n      <g>\n       <use xlink:href=\"#mc0c63d8d07\" x=\"44.845313\" y=\"96.152774\" style=\"stroke: #000000; stroke-width: 0.8\"/>\n      </g>\n     </g>\n     <g id=\"text_14\">\n      <!-- 0.50 -->\n      <g transform=\"translate(15.579688 99.951992)scale(0.1 -0.1)\">\n       <use xlink:href=\"#DejaVuSans-30\"/>\n       <use xlink:href=\"#DejaVuSans-2e\" x=\"63.623047\"/>\n       <use xlink:href=\"#DejaVuSans-35\" x=\"95.410156\"/>\n       <use xlink:href=\"#DejaVuSans-30\" x=\"159.033203\"/>\n      </g>\n     </g>\n    </g>\n    <g id=\"ytick_8\">\n     <g id=\"line2d_29\">\n      <path d=\"M 44.845313 59.089114 \nL 491.245312 59.089114 \n\" clip-path=\"url(#pd0a1ce54ed)\" style=\"fill: none; stroke: #b0b0b0; stroke-width: 0.8; stroke-linecap: square\"/>\n     </g>\n     <g id=\"line2d_30\">\n      <g>\n       <use xlink:href=\"#mc0c63d8d07\" x=\"44.845313\" y=\"59.089114\" style=\"stroke: #000000; stroke-width: 0.8\"/>\n      </g>\n     </g>\n     <g id=\"text_15\">\n      <!-- 0.75 -->\n      <g transform=\"translate(15.579688 62.888333)scale(0.1 -0.1)\">\n       <use xlink:href=\"#DejaVuSans-30\"/>\n       <use xlink:href=\"#DejaVuSans-2e\" x=\"63.623047\"/>\n       <use xlink:href=\"#DejaVuSans-37\" x=\"95.410156\"/>\n       <use xlink:href=\"#DejaVuSans-35\" x=\"159.033203\"/>\n      </g>\n     </g>\n    </g>\n    <g id=\"ytick_9\">\n     <g id=\"line2d_31\">\n      <path d=\"M 44.845313 22.025455 \nL 491.245312 22.025455 \n\" clip-path=\"url(#pd0a1ce54ed)\" style=\"fill: none; stroke: #b0b0b0; stroke-width: 0.8; stroke-linecap: square\"/>\n     </g>\n     <g id=\"line2d_32\">\n      <g>\n       <use xlink:href=\"#mc0c63d8d07\" x=\"44.845313\" y=\"22.025455\" style=\"stroke: #000000; stroke-width: 0.8\"/>\n      </g>\n     </g>\n     <g id=\"text_16\">\n      <!-- 1.00 -->\n      <g transform=\"translate(15.579688 25.824673)scale(0.1 -0.1)\">\n       <use xlink:href=\"#DejaVuSans-31\"/>\n       <use xlink:href=\"#DejaVuSans-2e\" x=\"63.623047\"/>\n       <use xlink:href=\"#DejaVuSans-30\" x=\"95.410156\"/>\n       <use xlink:href=\"#DejaVuSans-30\" x=\"159.033203\"/>\n      </g>\n     </g>\n    </g>\n   </g>\n   <g id=\"line2d_33\">\n    <path d=\"M 65.136222 170.280119 \nL 73.860035 130.73588 \nL 78.706577 109.827729 \nL 82.583817 94.05707 \nL 86.137977 80.558357 \nL 89.0459 70.313773 \nL 91.953837 60.878318 \nL 94.538664 53.232491 \nL 96.80038 47.155021 \nL 99.062111 41.680575 \nL 101.323842 36.836014 \nL 103.262462 33.202952 \nL 105.201082 30.063223 \nL 106.816607 27.831824 \nL 108.432116 25.956498 \nL 110.04764 24.441876 \nL 111.340053 23.4925 \nL 112.632467 22.777941 \nL 113.92488 22.299356 \nL 115.217293 22.057514 \nL 116.509707 22.052786 \nL 117.802136 22.285208 \nL 119.094549 22.754373 \nL 120.386962 23.459557 \nL 121.679376 24.399619 \nL 122.971789 25.573057 \nL 124.587298 27.365142 \nL 126.202822 29.514457 \nL 127.818331 32.015587 \nL 129.756951 35.472517 \nL 131.695572 39.414615 \nL 133.634207 43.827725 \nL 135.895938 49.550314 \nL 138.157654 55.864191 \nL 140.74248 63.764355 \nL 143.650411 73.463761 \nL 146.558348 83.946874 \nL 149.789382 96.410486 \nL 153.66663 112.329619 \nL 158.190076 131.938568 \nL 164.329048 159.675214 \nL 175.960775 212.44751 \nL 180.48423 231.868423 \nL 184.36147 247.569489 \nL 187.592511 259.813704 \nL 190.500441 270.071906 \nL 193.408371 279.522339 \nL 195.993206 287.182623 \nL 198.254929 293.273498 \nL 200.516653 298.761951 \nL 202.778384 303.621118 \nL 204.717004 307.267108 \nL 206.655624 310.420083 \nL 208.271144 312.662732 \nL 209.886661 314.549492 \nL 211.502178 316.075655 \nL 212.794595 317.034363 \nL 214.087008 317.758297 \nL 215.379426 318.246293 \nL 216.671839 318.497573 \nL 217.964252 318.511738 \nL 219.256666 318.288771 \nL 220.549083 317.829008 \nL 221.841496 317.133209 \nL 223.133913 316.20247 \nL 224.426327 315.038292 \nL 226.041843 313.25766 \nL 227.657364 311.119656 \nL 229.272881 308.629625 \nL 231.211501 305.185747 \nL 233.150125 301.256347 \nL 235.088745 296.855573 \nL 237.350474 291.146787 \nL 239.612199 284.846006 \nL 242.197028 276.959927 \nL 245.10496 267.27511 \nL 248.012894 256.805156 \nL 251.243929 244.354321 \nL 255.121173 228.447834 \nL 259.644625 208.849644 \nL 265.783593 181.120472 \nL 277.415325 128.33908 \nL 281.938775 108.906626 \nL 285.816019 93.19227 \nL 289.047057 80.93479 \nL 291.954989 70.663025 \nL 294.862923 61.197595 \nL 297.447751 53.522925 \nL 299.709477 47.418681 \nL 301.971202 41.916204 \nL 304.232925 37.042457 \nL 306.171549 33.383547 \nL 308.110173 30.217317 \nL 309.72569 27.963428 \nL 311.341206 26.065251 \nL 312.956727 24.527539 \nL 314.24914 23.559517 \nL 315.541558 22.826207 \nL 316.833971 22.3288 \nL 318.126388 22.068083 \nL 319.418798 22.044471 \nL 320.711215 22.258009 \nL 322.003628 22.708352 \nL 323.296045 23.394775 \nL 324.588455 24.316174 \nL 325.880872 25.4711 \nL 327.496389 27.240271 \nL 329.111909 29.366965 \nL 330.727426 31.84587 \nL 332.666046 35.276688 \nL 334.60467 39.19338 \nL 336.54329 43.581836 \nL 338.805014 49.276802 \nL 341.066745 55.56446 \nL 343.651571 63.436418 \nL 346.559501 73.10661 \nL 349.467439 83.563407 \nL 352.698473 96.001419 \nL 356.57572 111.895248 \nL 361.099167 131.482587 \nL 367.238138 159.204238 \nL 379.19297 213.415098 \nL 383.716424 232.785987 \nL 387.593664 248.429835 \nL 390.824705 260.616878 \nL 393.732636 270.81674 \nL 396.640573 280.202833 \nL 399.2254 287.801243 \nL 401.487131 293.83475 \nL 403.748847 299.26306 \nL 405.687467 303.414004 \nL 407.626087 307.085815 \nL 409.564722 310.265292 \nL 411.180247 312.530438 \nL 412.795756 314.440006 \nL 414.41128 315.989277 \nL 415.703694 316.966612 \nL 416.996107 317.70928 \nL 418.28852 318.216099 \nL 419.580934 318.486253 \nL 420.873347 318.519302 \nL 422.16576 318.315211 \nL 423.458174 317.874288 \nL 424.750602 317.19724 \nL 426.043016 316.285164 \nL 427.335429 315.139508 \nL 428.950938 313.381807 \nL 430.566463 311.266406 \nL 432.181972 308.798644 \nL 434.120592 305.380896 \nL 436.059212 301.476937 \nL 437.997832 297.100817 \nL 440.259578 291.41961 \nL 442.521294 285.145145 \nL 445.106121 277.287317 \nL 447.690947 268.745001 \nL 450.598885 258.384904 \nL 453.829919 246.041126 \nL 457.384063 231.593603 \nL 461.584414 213.577967 \nL 467.077163 188.965314 \nL 470.954403 171.224594 \nL 470.954403 171.224594 \n\" clip-path=\"url(#pd0a1ce54ed)\" style=\"fill: none; stroke: #1f77b4; stroke-width: 1.5; stroke-linecap: square\"/>\n   </g>\n   <g id=\"line2d_34\">\n    <path d=\"M 65.136222 22.025455 \nL 66.428635 22.144043 \nL 67.721064 22.499621 \nL 69.013477 23.091616 \nL 70.30589 23.919072 \nL 71.598304 24.980683 \nL 73.213828 26.634341 \nL 74.829337 28.647024 \nL 76.444862 31.013739 \nL 78.383482 34.312687 \nL 80.322102 38.100965 \nL 82.260722 42.364948 \nL 84.522437 47.920241 \nL 86.784184 54.074934 \nL 89.369011 61.803852 \nL 91.953837 70.226652 \nL 94.86176 80.464432 \nL 98.092793 92.688642 \nL 101.646953 107.025853 \nL 105.847289 124.941325 \nL 111.016942 148.008456 \nL 127.818331 223.781156 \nL 132.018683 241.253522 \nL 135.572827 255.113571 \nL 138.80386 266.827913 \nL 141.711791 276.549173 \nL 144.296617 284.470439 \nL 146.881452 291.661293 \nL 149.143175 297.317819 \nL 151.404898 302.35212 \nL 153.343526 306.15322 \nL 155.282146 309.465317 \nL 156.897663 311.843202 \nL 158.51318 313.867249 \nL 160.128696 315.532412 \nL 161.744221 316.834521 \nL 163.036634 317.61259 \nL 164.329048 318.154949 \nL 165.621461 318.46075 \nL 166.913874 318.529491 \nL 168.206288 318.361064 \nL 169.498709 317.955735 \nL 170.791122 317.314167 \nL 172.083535 316.437366 \nL 173.375949 315.326748 \nL 174.991465 313.612417 \nL 176.606982 311.539821 \nL 178.222499 309.114148 \nL 180.161127 305.745868 \nL 182.099747 301.890077 \nL 184.038367 297.560624 \nL 186.30009 291.931836 \nL 188.561821 285.707174 \nL 191.146648 277.902932 \nL 193.731475 269.41027 \nL 196.639412 259.100921 \nL 199.870446 246.806717 \nL 203.42459 232.404879 \nL 207.624938 214.430563 \nL 213.117698 189.850092 \nL 228.626674 119.776749 \nL 232.827021 102.133535 \nL 236.381162 88.091526 \nL 239.612199 76.183925 \nL 242.520131 66.267747 \nL 245.10496 58.157818 \nL 247.68979 50.765091 \nL 249.951516 44.922075 \nL 252.21324 39.693067 \nL 254.151862 35.719246 \nL 256.090484 32.229708 \nL 258.029106 29.236995 \nL 259.644625 27.130422 \nL 261.260142 25.381646 \nL 262.875661 23.99505 \nL 264.168075 23.148886 \nL 265.46049 22.538105 \nL 266.752904 22.163678 \nL 268.045319 22.026206 \nL 269.337734 22.12591 \nL 270.630148 22.462631 \nL 271.922563 23.035821 \nL 273.214978 23.844579 \nL 274.507392 24.887597 \nL 276.12291 26.518227 \nL 277.738429 28.508191 \nL 279.353947 30.852505 \nL 281.292569 34.125129 \nL 283.231191 37.887763 \nL 285.169813 42.126862 \nL 287.431538 47.65424 \nL 289.693263 53.782237 \nL 292.278092 61.482481 \nL 294.862923 69.878664 \nL 297.770855 80.089183 \nL 301.001892 92.286662 \nL 304.556029 106.599011 \nL 308.75638 124.491941 \nL 313.926037 147.541706 \nL 330.727426 223.34048 \nL 334.927773 240.838552 \nL 338.48191 254.725827 \nL 341.712951 266.469048 \nL 344.620881 276.219344 \nL 347.205716 284.168702 \nL 349.790543 291.38953 \nL 352.052266 297.073741 \nL 354.313989 302.136903 \nL 356.252617 305.963603 \nL 358.191237 309.301971 \nL 359.806754 311.702204 \nL 361.422271 313.748961 \nL 363.037795 315.437126 \nL 364.653312 316.762467 \nL 365.945725 317.559252 \nL 367.238138 318.120424 \nL 368.530552 318.445083 \nL 369.822965 318.532707 \nL 371.115379 318.383165 \nL 372.407792 317.996684 \nL 373.700213 317.373894 \nL 374.992626 316.515783 \nL 376.28504 315.423721 \nL 377.900556 313.732366 \nL 379.516073 311.682445 \nL 381.131597 309.279084 \nL 383.070218 305.937058 \nL 385.008838 302.106814 \nL 386.947458 297.80213 \nL 389.209189 292.201116 \nL 391.470912 286.002946 \nL 394.055739 278.227176 \nL 396.640573 269.760891 \nL 399.548511 259.478547 \nL 402.779544 247.210756 \nL 406.333674 232.833373 \nL 410.53404 214.881101 \nL 416.026789 190.318099 \nL 431.535765 120.221004 \nL 435.736116 102.553259 \nL 439.290245 88.484996 \nL 442.521294 76.549322 \nL 445.429232 66.604751 \nL 448.014058 58.467322 \nL 450.598885 51.045116 \nL 452.860601 45.174848 \nL 455.122332 39.917298 \nL 457.060967 35.918132 \nL 458.999587 32.402554 \nL 460.938208 29.383189 \nL 462.553717 27.254003 \nL 464.169241 25.482296 \nL 465.78475 24.072512 \nL 467.077163 23.207659 \nL 468.369577 22.578091 \nL 469.66199 22.184815 \nL 470.954403 22.028459 \nL 470.954403 22.028459 \n\" clip-path=\"url(#pd0a1ce54ed)\" style=\"fill: none; stroke-dasharray: 5.55,2.4; stroke-dashoffset: 0; stroke: #bf00bf; stroke-width: 1.5\"/>\n   </g>\n   <g id=\"patch_3\">\n    <path d=\"M 44.845313 333.36 \nL 44.845313 7.2 \n\" style=\"fill: none; stroke: #000000; stroke-width: 0.8; stroke-linejoin: miter; stroke-linecap: square\"/>\n   </g>\n   <g id=\"patch_4\">\n    <path d=\"M 491.245312 333.36 \nL 491.245312 7.2 \n\" style=\"fill: none; stroke: #000000; stroke-width: 0.8; stroke-linejoin: miter; stroke-linecap: square\"/>\n   </g>\n   <g id=\"patch_5\">\n    <path d=\"M 44.845312 333.36 \nL 491.245312 333.36 \n\" style=\"fill: none; stroke: #000000; stroke-width: 0.8; stroke-linejoin: miter; stroke-linecap: square\"/>\n   </g>\n   <g id=\"patch_6\">\n    <path d=\"M 44.845312 7.2 \nL 491.245312 7.2 \n\" style=\"fill: none; stroke: #000000; stroke-width: 0.8; stroke-linejoin: miter; stroke-linecap: square\"/>\n   </g>\n   <g id=\"legend_1\">\n    <g id=\"patch_7\">\n     <path d=\"M 51.845313 328.36 \nL 131.440625 328.36 \nQ 133.440625 328.36 133.440625 326.36 \nL 133.440625 298.00375 \nQ 133.440625 296.00375 131.440625 296.00375 \nL 51.845313 296.00375 \nQ 49.845313 296.00375 49.845313 298.00375 \nL 49.845313 326.36 \nQ 49.845313 328.36 51.845313 328.36 \nz\n\" style=\"fill: #ffffff; opacity: 0.8; stroke: #cccccc; stroke-linejoin: miter\"/>\n    </g>\n    <g id=\"line2d_35\">\n     <path d=\"M 53.845313 304.102188 \nL 63.845313 304.102188 \nL 73.845313 304.102188 \n\" style=\"fill: none; stroke: #1f77b4; stroke-width: 1.5; stroke-linecap: square\"/>\n    </g>\n    <g id=\"text_17\">\n     <!-- y=sin(x) -->\n     <g transform=\"translate(81.845313 307.602188)scale(0.1 -0.1)\">\n      <defs>\n       <path id=\"DejaVuSans-79\" d=\"M 2059 -325 \nQ 1816 -950 1584 -1140 \nQ 1353 -1331 966 -1331 \nL 506 -1331 \nL 506 -850 \nL 844 -850 \nQ 1081 -850 1212 -737 \nQ 1344 -625 1503 -206 \nL 1606 56 \nL 191 3500 \nL 800 3500 \nL 1894 763 \nL 2988 3500 \nL 3597 3500 \nL 2059 -325 \nz\n\" transform=\"scale(0.015625)\"/>\n       <path id=\"DejaVuSans-3d\" d=\"M 678 2906 \nL 4684 2906 \nL 4684 2381 \nL 678 2381 \nL 678 2906 \nz\nM 678 1631 \nL 4684 1631 \nL 4684 1100 \nL 678 1100 \nL 678 1631 \nz\n\" transform=\"scale(0.015625)\"/>\n       <path id=\"DejaVuSans-73\" d=\"M 2834 3397 \nL 2834 2853 \nQ 2591 2978 2328 3040 \nQ 2066 3103 1784 3103 \nQ 1356 3103 1142 2972 \nQ 928 2841 928 2578 \nQ 928 2378 1081 2264 \nQ 1234 2150 1697 2047 \nL 1894 2003 \nQ 2506 1872 2764 1633 \nQ 3022 1394 3022 966 \nQ 3022 478 2636 193 \nQ 2250 -91 1575 -91 \nQ 1294 -91 989 -36 \nQ 684 19 347 128 \nL 347 722 \nQ 666 556 975 473 \nQ 1284 391 1588 391 \nQ 1994 391 2212 530 \nQ 2431 669 2431 922 \nQ 2431 1156 2273 1281 \nQ 2116 1406 1581 1522 \nL 1381 1569 \nQ 847 1681 609 1914 \nQ 372 2147 372 2553 \nQ 372 3047 722 3315 \nQ 1072 3584 1716 3584 \nQ 2034 3584 2315 3537 \nQ 2597 3491 2834 3397 \nz\n\" transform=\"scale(0.015625)\"/>\n       <path id=\"DejaVuSans-69\" d=\"M 603 3500 \nL 1178 3500 \nL 1178 0 \nL 603 0 \nL 603 3500 \nz\nM 603 4863 \nL 1178 4863 \nL 1178 4134 \nL 603 4134 \nL 603 4863 \nz\n\" transform=\"scale(0.015625)\"/>\n       <path id=\"DejaVuSans-6e\" d=\"M 3513 2113 \nL 3513 0 \nL 2938 0 \nL 2938 2094 \nQ 2938 2591 2744 2837 \nQ 2550 3084 2163 3084 \nQ 1697 3084 1428 2787 \nQ 1159 2491 1159 1978 \nL 1159 0 \nL 581 0 \nL 581 3500 \nL 1159 3500 \nL 1159 2956 \nQ 1366 3272 1645 3428 \nQ 1925 3584 2291 3584 \nQ 2894 3584 3203 3211 \nQ 3513 2838 3513 2113 \nz\n\" transform=\"scale(0.015625)\"/>\n       <path id=\"DejaVuSans-28\" d=\"M 1984 4856 \nQ 1566 4138 1362 3434 \nQ 1159 2731 1159 2009 \nQ 1159 1288 1364 580 \nQ 1569 -128 1984 -844 \nL 1484 -844 \nQ 1016 -109 783 600 \nQ 550 1309 550 2009 \nQ 550 2706 781 3412 \nQ 1013 4119 1484 4856 \nL 1984 4856 \nz\n\" transform=\"scale(0.015625)\"/>\n       <path id=\"DejaVuSans-78\" d=\"M 3513 3500 \nL 2247 1797 \nL 3578 0 \nL 2900 0 \nL 1881 1375 \nL 863 0 \nL 184 0 \nL 1544 1831 \nL 300 3500 \nL 978 3500 \nL 1906 2253 \nL 2834 3500 \nL 3513 3500 \nz\n\" transform=\"scale(0.015625)\"/>\n       <path id=\"DejaVuSans-29\" d=\"M 513 4856 \nL 1013 4856 \nQ 1481 4119 1714 3412 \nQ 1947 2706 1947 2009 \nQ 1947 1309 1714 600 \nQ 1481 -109 1013 -844 \nL 513 -844 \nQ 928 -128 1133 580 \nQ 1338 1288 1338 2009 \nQ 1338 2731 1133 3434 \nQ 928 4138 513 4856 \nz\n\" transform=\"scale(0.015625)\"/>\n      </defs>\n      <use xlink:href=\"#DejaVuSans-79\"/>\n      <use xlink:href=\"#DejaVuSans-3d\" x=\"59.179688\"/>\n      <use xlink:href=\"#DejaVuSans-73\" x=\"142.96875\"/>\n      <use xlink:href=\"#DejaVuSans-69\" x=\"195.068359\"/>\n      <use xlink:href=\"#DejaVuSans-6e\" x=\"222.851562\"/>\n      <use xlink:href=\"#DejaVuSans-28\" x=\"286.230469\"/>\n      <use xlink:href=\"#DejaVuSans-78\" x=\"325.244141\"/>\n      <use xlink:href=\"#DejaVuSans-29\" x=\"384.423828\"/>\n     </g>\n    </g>\n    <g id=\"line2d_36\">\n     <path d=\"M 53.845313 318.780313 \nL 63.845313 318.780313 \nL 73.845313 318.780313 \n\" style=\"fill: none; stroke-dasharray: 5.55,2.4; stroke-dashoffset: 0; stroke: #bf00bf; stroke-width: 1.5\"/>\n    </g>\n    <g id=\"text_18\">\n     <!-- y'=cos(x) -->\n     <g transform=\"translate(81.845313 322.280313)scale(0.1 -0.1)\">\n      <defs>\n       <path id=\"DejaVuSans-27\" d=\"M 1147 4666 \nL 1147 2931 \nL 616 2931 \nL 616 4666 \nL 1147 4666 \nz\n\" transform=\"scale(0.015625)\"/>\n       <path id=\"DejaVuSans-63\" d=\"M 3122 3366 \nL 3122 2828 \nQ 2878 2963 2633 3030 \nQ 2388 3097 2138 3097 \nQ 1578 3097 1268 2742 \nQ 959 2388 959 1747 \nQ 959 1106 1268 751 \nQ 1578 397 2138 397 \nQ 2388 397 2633 464 \nQ 2878 531 3122 666 \nL 3122 134 \nQ 2881 22 2623 -34 \nQ 2366 -91 2075 -91 \nQ 1284 -91 818 406 \nQ 353 903 353 1747 \nQ 353 2603 823 3093 \nQ 1294 3584 2113 3584 \nQ 2378 3584 2631 3529 \nQ 2884 3475 3122 3366 \nz\n\" transform=\"scale(0.015625)\"/>\n       <path id=\"DejaVuSans-6f\" d=\"M 1959 3097 \nQ 1497 3097 1228 2736 \nQ 959 2375 959 1747 \nQ 959 1119 1226 758 \nQ 1494 397 1959 397 \nQ 2419 397 2687 759 \nQ 2956 1122 2956 1747 \nQ 2956 2369 2687 2733 \nQ 2419 3097 1959 3097 \nz\nM 1959 3584 \nQ 2709 3584 3137 3096 \nQ 3566 2609 3566 1747 \nQ 3566 888 3137 398 \nQ 2709 -91 1959 -91 \nQ 1206 -91 779 398 \nQ 353 888 353 1747 \nQ 353 2609 779 3096 \nQ 1206 3584 1959 3584 \nz\n\" transform=\"scale(0.015625)\"/>\n      </defs>\n      <use xlink:href=\"#DejaVuSans-79\"/>\n      <use xlink:href=\"#DejaVuSans-27\" x=\"59.179688\"/>\n      <use xlink:href=\"#DejaVuSans-3d\" x=\"86.669922\"/>\n      <use xlink:href=\"#DejaVuSans-63\" x=\"170.458984\"/>\n      <use xlink:href=\"#DejaVuSans-6f\" x=\"225.439453\"/>\n      <use xlink:href=\"#DejaVuSans-73\" x=\"286.621094\"/>\n      <use xlink:href=\"#DejaVuSans-28\" x=\"338.720703\"/>\n      <use xlink:href=\"#DejaVuSans-78\" x=\"377.734375\"/>\n      <use xlink:href=\"#DejaVuSans-29\" x=\"436.914062\"/>\n     </g>\n    </g>\n   </g>\n  </g>\n </g>\n <defs>\n  <clipPath id=\"pd0a1ce54ed\">\n   <rect x=\"44.845313\" y=\"7.2\" width=\"446.4\" height=\"326.16\"/>\n  </clipPath>\n </defs>\n</svg>\n",
      "text/plain": [
       "<Figure size 576x432 with 1 Axes>"
      ]
     },
     "metadata": {
      "needs_background": "light"
     },
     "output_type": "display_data"
    }
   ],
   "source": [
    "# 2.3.6 T3\n",
    "x = torch.arange(-2*torch.pi, 2*torch.pi, 0.01, requires_grad=True)\n",
    "y = torch.sin(x)\n",
    "y.sum().backward()\n",
    "y1 = x.grad\n",
    "plot(x.detach().numpy(), [y.detach().numpy(), y1.detach().numpy()], figsize=(8, 6), legend=['y=sin(x)', 'y\\'=cos(x)'])\n"
   ]
  }
 ],
 "metadata": {
  "interpreter": {
   "hash": "06f77016d31ee832f65100d09d66ee6db3390d0f686eae4accd2b20acd76aa64"
  },
  "kernelspec": {
   "display_name": "Python 3.9.12 ('ML')",
   "language": "python",
   "name": "python3"
  },
  "language_info": {
   "codemirror_mode": {
    "name": "ipython",
    "version": 3
   },
   "file_extension": ".py",
   "mimetype": "text/x-python",
   "name": "python",
   "nbconvert_exporter": "python",
   "pygments_lexer": "ipython3",
   "version": "3.9.12"
  },
  "orig_nbformat": 4
 },
 "nbformat": 4,
 "nbformat_minor": 2
}
