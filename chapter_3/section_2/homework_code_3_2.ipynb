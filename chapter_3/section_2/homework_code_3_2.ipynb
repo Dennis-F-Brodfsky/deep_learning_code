{
 "cells": [
  {
   "cell_type": "code",
   "execution_count": 1,
   "metadata": {},
   "outputs": [],
   "source": [
    "import torch\n",
    "import matplotlib.pyplot as plt\n",
    "from matplotlib_inline import backend_inline\n",
    "import random"
   ]
  },
  {
   "cell_type": "markdown",
   "metadata": {},
   "source": [
    "## 用到的d2l code"
   ]
  },
  {
   "cell_type": "code",
   "execution_count": 2,
   "metadata": {},
   "outputs": [],
   "source": [
    "def use_svg_display():\n",
    "    backend_inline.set_matplotlib_formats('svg')\n",
    "\n",
    "\n",
    "def set_figsize(figsize=(3.5, 2.5)):\n",
    "    use_svg_display()\n",
    "    plt.rcParams['figure.figsize'] = figsize\n",
    "\n",
    "\n",
    "def synthetic_data(w, b, num_examples):  #@save\n",
    "    X = torch.normal(0, 1, (num_examples, len(w)))#生成均值为0，方差为1，数据纬度是（num_examples, len(w)）的随机数据作为训练样本\n",
    "    y = torch.matmul(X, w) + b #生成X对应的预测值y\n",
    "    y += torch.normal(0, 0.01, y.shape)# 加入噪音，加入的是均值为0，方差为0.01，纬度和y.shape一致的噪音进行干扰\n",
    "    return X, y.reshape((-1, 1))#返回X，y，y为列向量\n",
    "\n",
    "def data_iter(batch_size, features, labels):\n",
    "    num_examples = len(features) #获取样本大小\n",
    "    indices = list(range(num_examples)) #获取样本脚标的list\n",
    "    # 这些样本是随机读取的，没有特定的顺序\n",
    "    random.shuffle(indices) #随机变换indices\n",
    "    for i in range(0, num_examples, batch_size): #开始循环\n",
    "        batch_indices = torch.tensor(indices[i: min(i + batch_size, num_examples)]) #有可能不能整除，取i + batch_size和num_examples的较小值\n",
    "        yield features[batch_indices], labels[batch_indices] #相当于是一个迭代器，每次返回batch_size个样本\n",
    "\n",
    "def linreg(X, w, b):  #@save\n",
    "    return torch.matmul(X, w) + b\n",
    "\n",
    "def squared_loss(y_hat, y):  #@save\n",
    "    return (y_hat - y.reshape(y_hat.shape)) ** 2 / 2\n",
    "\n",
    "def sgd(params, lr, batch_size):  #@save\n",
    "    with torch.no_grad(): #不需要计算梯度\n",
    "        for param in params:\n",
    "            param -= lr * param.grad / batch_size #梯度下降法更新参数\n",
    "            param.grad.zero_() #手动梯度归零"
   ]
  },
  {
   "cell_type": "markdown",
   "metadata": {},
   "source": [
    "## 声明若干训练参数"
   ]
  },
  {
   "cell_type": "code",
   "execution_count": 3,
   "metadata": {},
   "outputs": [],
   "source": [
    "batch_size=32\n",
    "true_w = torch.tensor([2, -3.4]) #真实权重\n",
    "true_b = 4.2 #真实偏差\n",
    "features, labels = synthetic_data(true_w, true_b, 1000) #随机生成1000组训练数据及标签"
   ]
  },
  {
   "cell_type": "code",
   "execution_count": 4,
   "metadata": {},
   "outputs": [],
   "source": [
    "lrs = [0.003, 0.03, 0.3, 0.0003] #学习率\n",
    "num_epochs = 3 #训练次数\n",
    "net = linreg #网络，之前定义的线性网络\n",
    "loss = squared_loss #损失函数，之前定义的平方损失函数"
   ]
  },
  {
   "cell_type": "markdown",
   "metadata": {},
   "source": [
    "## 部分课后作业代码"
   ]
  },
  {
   "cell_type": "code",
   "execution_count": 5,
   "metadata": {},
   "outputs": [
    {
     "name": "stdout",
     "output_type": "stream",
     "text": [
      "training with learning rate: 0.003\n",
      "epoch 1, loss 13.915562\n",
      "epoch 2, loss 11.504158\n",
      "epoch 3, loss 9.510802\n",
      "training with learning rate: 0.03\n",
      "epoch 1, loss 2.439851\n",
      "epoch 2, loss 0.354408\n",
      "epoch 3, loss 0.051464\n",
      "training with learning rate: 0.3\n",
      "epoch 1, loss 0.000051\n",
      "epoch 2, loss 0.000050\n",
      "epoch 3, loss 0.000050\n",
      "training with learning rate: 0.0003\n",
      "epoch 1, loss 16.544933\n",
      "epoch 2, loss 16.233500\n",
      "epoch 3, loss 15.927928\n"
     ]
    }
   ],
   "source": [
    "# homework 3.2.9\n",
    "#开始训练\n",
    "for lr in lrs:\n",
    "    print(f\"training with learning rate: {lr}\")\n",
    "    w = torch.normal(0, 0.01, size=(2,1), requires_grad=True) #w初始化为均值为0，方差为0.001的符合正态分布的数组，纬度为2 x1\n",
    "    b = torch.zeros(1, requires_grad=True) #b初始化为0，纬度为1，就是一个实数\n",
    "    for epoch in range(num_epochs):\n",
    "        for X, y in data_iter(batch_size, features, labels):\n",
    "            l = loss(net(X, w, b), y)  # X和y的小批量损失\n",
    "            # 因为l形状是(batch_size,1)，而不是一个标量。l中的所有元素被加到一起，\n",
    "            # 并以此计算关于[w,b]的梯度\n",
    "            l.sum().backward()\n",
    "            sgd([w, b], lr, batch_size)  # 使用参数的梯度更新参数\n",
    "        with torch.no_grad():\n",
    "            train_l = loss(net(features, w, b), labels) #计算所有样本的损失函数\n",
    "            print(f'epoch {epoch + 1}, loss {float(train_l.mean()):f}')"
   ]
  },
  {
   "cell_type": "code",
   "execution_count": null,
   "metadata": {},
   "outputs": [],
   "source": []
  }
 ],
 "metadata": {
  "interpreter": {
   "hash": "06f77016d31ee832f65100d09d66ee6db3390d0f686eae4accd2b20acd76aa64"
  },
  "kernelspec": {
   "display_name": "Python 3.9.12 ('ML')",
   "language": "python",
   "name": "python3"
  },
  "language_info": {
   "codemirror_mode": {
    "name": "ipython",
    "version": 3
   },
   "file_extension": ".py",
   "mimetype": "text/x-python",
   "name": "python",
   "nbconvert_exporter": "python",
   "pygments_lexer": "ipython3",
   "version": "3.9.12"
  },
  "orig_nbformat": 4
 },
 "nbformat": 4,
 "nbformat_minor": 2
}
