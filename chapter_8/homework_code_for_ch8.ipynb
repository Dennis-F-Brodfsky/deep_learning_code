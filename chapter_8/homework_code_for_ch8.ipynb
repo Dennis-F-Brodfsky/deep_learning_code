{
 "cells": [
  {
   "cell_type": "markdown",
   "metadata": {},
   "source": [
    "## 导入Python包"
   ]
  },
  {
   "cell_type": "code",
   "execution_count": 1,
   "metadata": {},
   "outputs": [],
   "source": [
    "import collections\n",
    "import hashlib\n",
    "import os\n",
    "import random\n",
    "import re\n",
    "import requests\n",
    "import matplotlib.pyplot as plt\n",
    "from matplotlib_inline import backend_inline\n",
    "from typing import Callable\n",
    "import math\n",
    "import numpy as np\n",
    "from IPython import display\n",
    "import tarfile\n",
    "import time\n",
    "import torch\n",
    "import torchmetrics\n",
    "import zipfile\n",
    "import functools"
   ]
  },
  {
   "cell_type": "markdown",
   "metadata": {},
   "source": [
    "## code from d2l\n",
    "一些修改\n",
    "1. for homework，查看没有梯度衰减的训练情况，train_ch8函数新加入一个修改梯度衰减阈值的变量\n",
    "2. for homework predict函数变成抽样选取，默认取最大值"
   ]
  },
  {
   "cell_type": "code",
   "execution_count": 6,
   "metadata": {},
   "outputs": [],
   "source": [
    "DATA_HUB = dict()\n",
    "DATA_URL = 'http://d2l-data.s3-accelerate.amazonaws.com/'\n",
    "DATA_HUB['time_machine'] = (DATA_URL + 'timemachine.txt',\n",
    "                                '090b5e7e70c295757f55df93cb0a180b9691891a')\n",
    "\n",
    "def download(name, cache_dir=os.path.join('.', 'data')):\n",
    "    \"\"\"下载一个DATA_HUB中的文件，返回本地文件名\n",
    "\n",
    "    Defined in :numref:`sec_kaggle_house`\"\"\"\n",
    "    assert name in DATA_HUB, f\"{name} 不存在于 {DATA_HUB}\"\n",
    "    url, sha1_hash = DATA_HUB[name]\n",
    "    os.makedirs(cache_dir, exist_ok=True)\n",
    "    fname = os.path.join(cache_dir, url.split('/')[-1])\n",
    "    if os.path.exists(fname):\n",
    "        sha1 = hashlib.sha1()\n",
    "        with open(fname, 'rb') as f:\n",
    "            while True:\n",
    "                data = f.read(1048576)\n",
    "                if not data:\n",
    "                    break\n",
    "                sha1.update(data)\n",
    "        if sha1.hexdigest() == sha1_hash:\n",
    "            return fname  # 命中缓存\n",
    "    print(f'正在从{url}下载{fname}...')\n",
    "    r = requests.get(url, stream=True, verify=True)\n",
    "    with open(fname, 'wb') as f:\n",
    "        f.write(r.content)\n",
    "    return fname\n",
    "\n",
    "def download_extract(name, folder=None):\n",
    "    \"\"\"下载并解压zip/tar文件\n",
    "\n",
    "    Defined in :numref:`sec_kaggle_house`\"\"\"\n",
    "    fname = download(name)\n",
    "    base_dir = os.path.dirname(fname)\n",
    "    data_dir, ext = os.path.splitext(fname)\n",
    "    if ext == '.zip':\n",
    "        fp = zipfile.ZipFile(fname, 'r')\n",
    "    elif ext in ('.tar', '.gz'):\n",
    "        fp = tarfile.open(fname, 'r')\n",
    "    else:\n",
    "        assert False, '只有zip/tar文件可以被解压缩'\n",
    "    fp.extractall(base_dir)\n",
    "    return os.path.join(base_dir, folder) if folder else data_dir\n",
    "\n",
    "class Timer:\n",
    "    \"\"\"记录多次运行时间\"\"\"\n",
    "    def __init__(self):\n",
    "        \"\"\"Defined in :numref:`subsec_linear_model`\"\"\"\n",
    "        self.times = []\n",
    "        self.start()\n",
    "\n",
    "    def start(self):\n",
    "        \"\"\"启动计时器\"\"\"\n",
    "        self.tik = time.time()\n",
    "\n",
    "    def stop(self):\n",
    "        \"\"\"停止计时器并将时间记录在列表中\"\"\"\n",
    "        self.times.append(time.time() - self.tik)\n",
    "        return self.times[-1]\n",
    "\n",
    "    def avg(self):\n",
    "        \"\"\"返回平均时间\"\"\"\n",
    "        return sum(self.times) / len(self.times)\n",
    "\n",
    "    def sum(self):\n",
    "        \"\"\"返回时间总和\"\"\"\n",
    "        return sum(self.times)\n",
    "\n",
    "    def cumsum(self):\n",
    "        \"\"\"返回累计时间\"\"\"\n",
    "        return np.array(self.times).cumsum().tolist()\n",
    "\n",
    "def read_time_machine():\n",
    "    \"\"\"将时间机器数据集加载到文本行的列表中\n",
    "\n",
    "    Defined in :numref:`sec_text_preprocessing`\"\"\"\n",
    "    with open(download('time_machine'), 'r') as f:\n",
    "        lines = f.readlines()\n",
    "    return [re.sub('[^A-Za-z]+', ' ', line).strip().lower() for line in lines]\n",
    "\n",
    "def tokenize(lines, token='word'):\n",
    "    \"\"\"将文本行拆分为单词或字符词元\n",
    "\n",
    "    Defined in :numref:`sec_text_preprocessing`\"\"\"\n",
    "    if token == 'word':\n",
    "        return [line.split() for line in lines]\n",
    "    elif token == 'char':\n",
    "        return [list(line) for line in lines]\n",
    "    else:\n",
    "        print('错误：未知词元类型：' + token)\n",
    "\n",
    "class Vocab:\n",
    "    \"\"\"文本词表\"\"\"\n",
    "    def __init__(self, tokens=None, min_freq=0, reserved_tokens=None):\n",
    "        \"\"\"Defined in :numref:`sec_text_preprocessing`\"\"\"\n",
    "        if tokens is None:\n",
    "            tokens = []\n",
    "        if reserved_tokens is None:\n",
    "            reserved_tokens = []\n",
    "        # 按出现频率排序\n",
    "        counter = count_corpus(tokens)\n",
    "        self._token_freqs = sorted(counter.items(), key=lambda x: x[1],\n",
    "                                   reverse=True)\n",
    "        # 未知词元的索引为0\n",
    "        self.idx_to_token = ['<unk>'] + reserved_tokens\n",
    "        self.token_to_idx = {token: idx\n",
    "                             for idx, token in enumerate(self.idx_to_token)}\n",
    "        for token, freq in self._token_freqs:\n",
    "            if freq < min_freq:\n",
    "                break\n",
    "            if token not in self.token_to_idx:\n",
    "                self.idx_to_token.append(token)\n",
    "                self.token_to_idx[token] = len(self.idx_to_token) - 1\n",
    "\n",
    "    def __len__(self):\n",
    "        return len(self.idx_to_token)\n",
    "\n",
    "    def __getitem__(self, tokens):\n",
    "        if not isinstance(tokens, (list, tuple)):\n",
    "            return self.token_to_idx.get(tokens, self.unk)\n",
    "        return [self.__getitem__(token) for token in tokens]\n",
    "\n",
    "    def to_tokens(self, indices):\n",
    "        if not isinstance(indices, (list, tuple)):\n",
    "            return self.idx_to_token[indices]\n",
    "        return [self.idx_to_token[index] for index in indices]\n",
    "\n",
    "    @property\n",
    "    def unk(self):  # 未知词元的索引为0\n",
    "        return 0\n",
    "\n",
    "    @property\n",
    "    def token_freqs(self):\n",
    "        return self._token_freqs\n",
    "\n",
    "def count_corpus(tokens):\n",
    "    \"\"\"统计词元的频率\n",
    "\n",
    "    Defined in :numref:`sec_text_preprocessing`\"\"\"\n",
    "    # 这里的tokens是1D列表或2D列表\n",
    "    if len(tokens) == 0 or isinstance(tokens[0], list):\n",
    "        # 将词元列表展平成一个列表\n",
    "        tokens = [token for line in tokens for token in line]\n",
    "    return collections.Counter(tokens)\n",
    "\n",
    "def load_corpus_time_machine(max_tokens=-1):\n",
    "    \"\"\"返回时光机器数据集的词元索引列表和词表\n",
    "\n",
    "    Defined in :numref:`sec_text_preprocessing`\"\"\"\n",
    "    lines = read_time_machine()\n",
    "    tokens = tokenize(lines, 'char')\n",
    "    vocab = Vocab(tokens)\n",
    "    # 因为时光机器数据集中的每个文本行不一定是一个句子或一个段落，\n",
    "    # 所以将所有文本行展平到一个列表中\n",
    "    corpus = [vocab[token] for line in tokens for token in line]\n",
    "    if max_tokens > 0:\n",
    "        corpus = corpus[:max_tokens]\n",
    "    return corpus, vocab\n",
    "\n",
    "def seq_data_iter_random(corpus, batch_size, num_steps):\n",
    "    \"\"\"使用随机抽样生成一个小批量子序列\n",
    "\n",
    "    Defined in :numref:`sec_language_model`\"\"\"\n",
    "    # 从随机偏移量开始对序列进行分区，随机范围包括num_steps-1\n",
    "    corpus = corpus[random.randint(0, num_steps - 1):]\n",
    "    # 减去1，是因为我们需要考虑标签\n",
    "    num_subseqs = (len(corpus) - 1) // num_steps\n",
    "    # 长度为num_steps的子序列的起始索引\n",
    "    initial_indices = list(range(0, num_subseqs * num_steps, num_steps))\n",
    "    # 在随机抽样的迭代过程中，\n",
    "    # 来自两个相邻的、随机的、小批量中的子序列不一定在原始序列上相邻\n",
    "    random.shuffle(initial_indices)\n",
    "\n",
    "    def data(pos):\n",
    "        # 返回从pos位置开始的长度为num_steps的序列\n",
    "        return corpus[pos: pos + num_steps]\n",
    "\n",
    "    num_batches = num_subseqs // batch_size\n",
    "    for i in range(0, batch_size * num_batches, batch_size):\n",
    "        # 在这里，initial_indices包含子序列的随机起始索引\n",
    "        initial_indices_per_batch = initial_indices[i: i + batch_size]\n",
    "        X = [data(j) for j in initial_indices_per_batch]\n",
    "        Y = [data(j + 1) for j in initial_indices_per_batch]\n",
    "        yield torch.tensor(X), torch.tensor(Y)\n",
    "\n",
    "def seq_data_iter_sequential(corpus, batch_size, num_steps):\n",
    "    \"\"\"使用顺序分区生成一个小批量子序列\n",
    "\n",
    "    Defined in :numref:`sec_language_model`\"\"\"\n",
    "    # 从随机偏移量开始划分序列\n",
    "    offset = random.randint(0, num_steps)\n",
    "    num_tokens = ((len(corpus) - offset - 1) // batch_size) * batch_size\n",
    "    Xs = torch.tensor(corpus[offset: offset + num_tokens])\n",
    "    Ys = torch.tensor(corpus[offset + 1: offset + 1 + num_tokens])\n",
    "    Xs, Ys = Xs.reshape(batch_size, -1), Ys.reshape(batch_size, -1)\n",
    "    num_batches = Xs.shape[1] // num_steps\n",
    "    for i in range(0, num_steps * num_batches, num_steps):\n",
    "        X = Xs[:, i: i + num_steps]\n",
    "        Y = Ys[:, i: i + num_steps]\n",
    "        yield X, Y\n",
    "\n",
    "class SeqDataLoader:\n",
    "    \"\"\"加载序列数据的迭代器\"\"\"\n",
    "    def __init__(self, batch_size, num_steps, use_random_iter, max_tokens):\n",
    "        \"\"\"Defined in :numref:`sec_language_model`\"\"\"\n",
    "        if use_random_iter:\n",
    "            self.data_iter_fn = seq_data_iter_random\n",
    "        else:\n",
    "            self.data_iter_fn = seq_data_iter_sequential\n",
    "        self.corpus, self.vocab = load_corpus_time_machine(max_tokens)\n",
    "        self.batch_size, self.num_steps = batch_size, num_steps\n",
    "\n",
    "    def __iter__(self):\n",
    "        return self.data_iter_fn(self.corpus, self.batch_size, self.num_steps)\n",
    "\n",
    "def load_data_time_machine(batch_size, num_steps,\n",
    "                           use_random_iter=False, max_tokens=10000):\n",
    "    \"\"\"返回时光机器数据集的迭代器和词表\n",
    "\n",
    "    Defined in :numref:`sec_language_model`\"\"\"\n",
    "    data_iter = SeqDataLoader(\n",
    "        batch_size, num_steps, use_random_iter, max_tokens)\n",
    "    return data_iter, data_iter.vocab\n",
    "\n",
    "class RNNModel(torch.nn.Module):\n",
    "    def __init__(self, rnn_layer, vocab_size, **kwargs):\n",
    "        super(RNNModel, self).__init__(**kwargs)\n",
    "        self.rnn = rnn_layer\n",
    "        self.vocab_size = vocab_size\n",
    "        self.num_hiddens = self.rnn.hidden_size\n",
    "        if not self.rnn.bidirectional: #如果是双向\n",
    "            self.num_directions = 1\n",
    "            self.linear = torch.nn.Linear(self.num_hiddens, self.vocab_size) #线性层 /输出层\n",
    "        else:\n",
    "            self.num_directions = 2\n",
    "            self.linear = torch.nn.Linear(self.num_hiddens, self.vocab_size)\n",
    "    \n",
    "    def forward(self, inputs, state):\n",
    "        ## batch_first relevant\n",
    "        X = torch.nn.functional.one_hot(inputs.T.long(), self.vocab_size)\n",
    "        X = X.to(torch.float32)\n",
    "        Y, state = self.rnn(X, state)\n",
    "        ## batch_first relevant\n",
    "        output = self.linear(Y.reshape((-1, Y.shape[-1])))\n",
    "        return output, state\n",
    "    \n",
    "    def begin_state(self, device, batch_size=1):\n",
    "        if not isinstance(self.rnn, torch.nn.LSTM):\n",
    "            # nn.GRU以张量作为隐状态\n",
    "            return torch.zeros((self.num_directions * self.rnn.num_layers, \n",
    "                                batch_size, self.num_hiddens),\n",
    "                                device = device)\n",
    "        else:\n",
    "            # nn.LSTM以元组作为隐状态\n",
    "            return (torch.zeros((\n",
    "                self.num_directions * self.rnn.num_layers,\n",
    "                batch_size, self.num_hiddens), device=device),\n",
    "                     torch.zeros((\n",
    "                         self.num_directions * self.rnn.num_layers,\n",
    "                         batch_size, self.num_hiddens), device=device))#(h_n, c_n)\n",
    "                         \n",
    "def set_axes(axes, xlabel, ylabel, xlim, ylim, xscale, yscale, legend):\n",
    "    axes.set_xlabel(xlabel)\n",
    "    axes.set_ylabel(ylabel)\n",
    "    axes.set_xscale(xscale)\n",
    "    axes.set_yscale(yscale)\n",
    "    axes.set_xlim(xlim)\n",
    "    axes.set_ylim(ylim)\n",
    "    if legend:\n",
    "        axes.legend(legend)\n",
    "    axes.grid()\n",
    "\n",
    "class Accumulator:\n",
    "    def __init__(self, n):\n",
    "        self.data = [0.0] * n\n",
    "\n",
    "    def add(self, *args):\n",
    "        self.data = [a + float(b) for a, b in zip(self.data, args)]\n",
    "\n",
    "    def reset(self):\n",
    "        self.data = [0.0] * len(self.data)\n",
    "\n",
    "    def __getitem__(self, idx):\n",
    "        return self.data[idx]\n",
    "\n",
    "class Animator:\n",
    "    def __init__(self, xlabel=None, ylabel=None, legend=None, xlim=None,\n",
    "                 ylim=None, xscale='linear', yscale='linear',\n",
    "                 fmts=('-', 'm--', 'g-.', 'r:'), nrows=1, ncols=1,\n",
    "                 figsize=(3.5, 2.5)):\n",
    "        # 增量地绘制多条线\n",
    "        if legend is None:\n",
    "            legend = []\n",
    "        self.fig, self.axes = plt.subplots(nrows, ncols, figsize=figsize)\n",
    "        if nrows * ncols == 1:\n",
    "            self.axes = [self.axes, ]\n",
    "        # 使用lambda函数捕获参数\n",
    "        self.config_axes = lambda: set_axes(\n",
    "            self.axes[0], xlabel, ylabel, xlim, ylim, xscale, yscale, legend)\n",
    "        self.X, self.Y, self.fmts = None, None, fmts\n",
    "    \n",
    "    def add(self, x, y):\n",
    "        # 这一部分的目的是，序列化输入x，y\n",
    "        if not hasattr(y, \"__len__\"):\n",
    "            y = [y]\n",
    "        n = len(y)\n",
    "        if not hasattr(x, \"__len__\"):\n",
    "            x = [x] * n\n",
    "        # 初始化主类的数据存储\n",
    "        if not self.X:\n",
    "            self.X = [[] for _ in range(n)]\n",
    "        if not self.Y:\n",
    "            self.Y = [[] for _ in range(n)]\n",
    "        # 逐一添加数据\n",
    "        for i, (a, b) in enumerate(zip(x, y)):\n",
    "            if a is not None and b is not None:\n",
    "                self.X[i].append(a)\n",
    "                self.Y[i].append(b)\n",
    "        self.axes[0].cla()\n",
    "        # 依次画线，此处应当注意x，y的线的数量超过fmts的长度时，应当自定义self.fmts\n",
    "        for x, y, fmt in zip(self.X, self.Y, self.fmts):\n",
    "            self.axes[0].plot(x, y, fmt)\n",
    "        self.config_axes()\n",
    "        display.display(self.fig)\n",
    "        display.clear_output(wait=True)\n",
    "\n",
    "def choose_max(y_like: torch.Tensor):\n",
    "    return int(y_like.argmax(dim=1))\n",
    "\n",
    "def choose_sample(y_like: torch.Tensor, alpha: int=1):\n",
    "    return int(torch.distributions.categorical.Categorical(logits=y_like**alpha).sample())\n",
    "\n",
    "def predict_ch8(prefix, num_preds, net, vocab, device, choose_method: Callable=choose_max):\n",
    "    state = net.begin_state(batch_size=1, device=device)\n",
    "    outputs = [vocab[prefix[0]]]\n",
    "    get_input = lambda: torch.reshape(torch.tensor(\n",
    "        [outputs[-1]], device=device), (1, 1))\n",
    "    for y in prefix[1:]:  # 预热期\n",
    "        _, state = net(get_input(), state)\n",
    "        outputs.append(vocab[y])\n",
    "    for _ in range(num_preds):  # 预测num_preds步\n",
    "        y, state = net(get_input(), state)\n",
    "        # homework modify original: outputs.append(int(y.argmax(dim=1).reshape(1)))\n",
    "        choose_method(y)\n",
    "    return ''.join([vocab.idx_to_token[i] for i in outputs])\n",
    "\n",
    "def grad_clipping(net, theta):\n",
    "    params = [p for p in net.parameters() if p.requires_grad]\n",
    "    norm = torch.sqrt(sum(torch.sum((p.grad ** 2)) for p in params))\n",
    "    if norm > theta:\n",
    "        for param in params:\n",
    "            param.grad[:] *= theta / norm\n",
    "\n",
    "def train_epoch_ch8(net, train_iter, loss, updater, device, use_random_iter, clip_cond):\n",
    "    state, timer = None, Timer()\n",
    "    metric = Accumulator(2)  # 训练损失之和,词元数量\n",
    "    for X, Y in train_iter:\n",
    "        if state is None or use_random_iter:\n",
    "            # 在第一次迭代或使用随机抽样时初始化state\n",
    "            ## try to fix??\n",
    "            state = net.begin_state(batch_size=X.shape[0], device=device)\n",
    "        else:\n",
    "            if isinstance(net, torch.nn.Module) and not isinstance(state, tuple):\n",
    "                # state对于nn.GRU是个张量\n",
    "                state.detach_()\n",
    "            else:\n",
    "                # state对于nn.LSTM或对于我们从零开始实现的模型是个张量\n",
    "                for s in state:\n",
    "                    s.detach_()\n",
    "        y = Y.T.reshape(-1)\n",
    "        X, y = X.to(device), y.to(device)\n",
    "        y_hat, state = net(X, state)\n",
    "        l = loss(y_hat, y.long()).mean()\n",
    "        updater.zero_grad()\n",
    "        l.backward()\n",
    "        grad_clipping(net, clip_cond)\n",
    "        updater.step()\n",
    "        metric.add(l * y.numel(), y.numel())\n",
    "    return math.exp(metric[0] / metric[1]), metric[1] / timer.stop()\n",
    "\n",
    "def train_ch8(net, train_iter, vocab, lr, num_epochs, device, choose_method: Callable=choose_max, clip_cond=1, use_random_iter=False):\n",
    "    loss = torch.nn.CrossEntropyLoss()\n",
    "    animator = Animator(xlabel='epoch', ylabel='perplexity',\n",
    "                           legend=['train'], xlim=[10,num_epochs])\n",
    "    #初始化优化器\n",
    "    updater = torch.optim.SGD(net.parameters(), lr)\n",
    "    predict = lambda prefix: predict_ch8(prefix, 50, net, vocab, device, choose_method)\n",
    "    #训练和预测\n",
    "    for epoch in range(num_epochs):\n",
    "        ppl, speed = train_epoch_ch8(\n",
    "            net, train_iter, loss, updater, device, use_random_iter, clip_cond)\n",
    "        if (epoch + 1) % 10 == 0:\n",
    "            print(predict('time traveller'))\n",
    "            animator.add(epoch+1, [ppl])\n",
    "    print(f'困惑度 {ppl:.1f}, {speed:.1f} 词元/秒 {str(device)}')\n",
    "    print(predict('time traveller'))\n",
    "    print(predict('traveller'))\n",
    "\n",
    "def try_gpu(i=0):\n",
    "    if torch.cuda.device_count() >= i + 1:\n",
    "        return torch.device(f'cuda:{i}')\n",
    "    return torch.device('cpu')"
   ]
  },
  {
   "cell_type": "markdown",
   "metadata": {},
   "source": [
    "## homework code for ch8 sec5"
   ]
  },
  {
   "cell_type": "code",
   "execution_count": null,
   "metadata": {},
   "outputs": [],
   "source": [
    "#T2\n"
   ]
  },
  {
   "cell_type": "code",
   "execution_count": 8,
   "metadata": {},
   "outputs": [
    {
     "name": "stdout",
     "output_type": "stream",
     "text": [
      "困惑度 1.3, 85567.4 词元/秒 cpu\n",
      "time traveller\n",
      "traveller\n"
     ]
    },
    {
     "data": {
      "image/png": "[encoded data removed]",
      "text/plain": [
       "<Figure size 252x180 with 1 Axes>"
      ]
     },
     "metadata": {
      "needs_background": "light"
     },
     "output_type": "display_data"
    }
   ],
   "source": [
    "# T3(1)\n",
    "train_iter, vocab = load_data_time_machine(32, 35)\n",
    "rnn_layer = torch.nn.RNN(len(vocab), 256)\n",
    "net = RNNModel(rnn_layer, len(vocab))\n",
    "train_ch8(net, train_iter, vocab, 1, 500, torch.device('cpu'), choose_sample)"
   ]
  },
  {
   "cell_type": "code",
   "execution_count": 11,
   "metadata": {},
   "outputs": [
    {
     "name": "stdout",
     "output_type": "stream",
     "text": [
      "困惑度 1.3, 100945.4 词元/秒 cpu\n",
      "time traveller\n",
      "traveller\n"
     ]
    },
    {
     "data": {
      "image/png": "[encoded data removed]",
      "text/plain": [
       "<Figure size 252x180 with 1 Axes>"
      ]
     },
     "metadata": {
      "needs_background": "light"
     },
     "output_type": "display_data"
    }
   ],
   "source": [
    "# T3(2)\n",
    "train_iter, vocab = load_data_time_machine(32, 35)\n",
    "rnn_layer = torch.nn.RNN(len(vocab), 256)\n",
    "net = RNNModel(rnn_layer, len(vocab))\n",
    "train_ch8(net, train_iter, vocab, 1, 500, torch.device('cpu'), functools.partial(choose_sample, alpha=2))"
   ]
  },
  {
   "cell_type": "code",
   "execution_count": 9,
   "metadata": {},
   "outputs": [
    {
     "name": "stdout",
     "output_type": "stream",
     "text": [
      "困惑度 1.3, 114715.0 词元/秒 cpu\n",
      "time traveller\n",
      "traveller\n"
     ]
    },
    {
     "data": {
      "image/png": "[encoded data removed]",
      "text/plain": [
       "<Figure size 252x180 with 1 Axes>"
      ]
     },
     "metadata": {
      "needs_background": "light"
     },
     "output_type": "display_data"
    }
   ],
   "source": [
    "train_iter, vocab = load_data_time_machine(32, 35)\n",
    "rnn_layer = torch.nn.RNN(len(vocab), 256)\n",
    "net = RNNModel(rnn_layer, len(vocab))\n",
    "train_ch8(net, train_iter, vocab, 1, 500, torch.device('cpu'), choose_max)"
   ]
  },
  {
   "cell_type": "code",
   "execution_count": 10,
   "metadata": {},
   "outputs": [
    {
     "name": "stdout",
     "output_type": "stream",
     "text": [
      "困惑度 202043984386602922502051321610240.0, 76135.1 词元/秒 cpu\n",
      "time traveller\n",
      "traveller\n"
     ]
    },
    {
     "data": {
      "image/png": "[encoded data removed]",
      "text/plain": [
       "<Figure size 252x180 with 1 Axes>"
      ]
     },
     "metadata": {
      "needs_background": "light"
     },
     "output_type": "display_data"
    }
   ],
   "source": [
    "# T4\n",
    "train_iter, vocab = load_data_time_machine(32, 35)\n",
    "rnn_layer = torch.nn.RNN(len(vocab), 256)\n",
    "net = RNNModel(rnn_layer, len(vocab))\n",
    "train_ch8(net, train_iter, vocab, 1, 500, torch.device('cpu'), choose_max, clip_cond=torch.inf)"
   ]
  },
  {
   "cell_type": "code",
   "execution_count": 13,
   "metadata": {},
   "outputs": [
    {
     "name": "stdout",
     "output_type": "stream",
     "text": [
      "困惑度 1.7, 104464.4 词元/秒 cpu\n",
      "time traveller\n",
      "traveller\n"
     ]
    },
    {
     "data": {
      "image/png": "[encoded data removed]",
      "text/plain": [
       "<Figure size 252x180 with 1 Axes>"
      ]
     },
     "metadata": {
      "needs_background": "light"
     },
     "output_type": "display_data"
    }
   ],
   "source": [
    "#T5\n",
    "train_iter, vocab = load_data_time_machine(32, 35)\n",
    "rnn_layer = torch.nn.RNN(len(vocab), 256)\n",
    "net = RNNModel(rnn_layer, len(vocab))\n",
    "train_ch8(net, train_iter, vocab, 1, 500, torch.device('cpu'), use_random_iter=True)"
   ]
  },
  {
   "cell_type": "code",
   "execution_count": 16,
   "metadata": {},
   "outputs": [
    {
     "name": "stdout",
     "output_type": "stream",
     "text": [
      "困惑度 1.1, 91672.5 词元/秒 cpu\n",
      "time traveller\n",
      "traveller\n"
     ]
    },
    {
     "data": {
      "image/png": "[encoded data removed]",
      "text/plain": [
       "<Figure size 252x180 with 1 Axes>"
      ]
     },
     "metadata": {
      "needs_background": "light"
     },
     "output_type": "display_data"
    }
   ],
   "source": [
    "# T6\n",
    "train_iter, vocab = load_data_time_machine(32, 35)\n",
    "rnn_layer = torch.nn.RNN(len(vocab), 256, nonlinearity='relu')\n",
    "net = RNNModel(rnn_layer, len(vocab))\n",
    "train_ch8(net, train_iter, vocab, 1, 1500, torch.device('cpu'), clip_cond=torch.inf)"
   ]
  },
  {
   "cell_type": "markdown",
   "metadata": {},
   "source": [
    "## homework code for ch8 sec6"
   ]
  },
  {
   "cell_type": "code",
   "execution_count": 2,
   "metadata": {},
   "outputs": [],
   "source": [
    "#T3\n",
    "def generate_timeseries(batch_size, timesteps):\n",
    "    f1, f2, o1, o2 = torch.rand(4, batch_size, 1)\n",
    "    t = torch.linspace(0, 1, timesteps)\n",
    "    series = 0.5*torch.sin((t-o1)*(f1*10+10))\n",
    "    series += 0.2*torch.sin((t-o2)*(f2*20+10))\n",
    "    series += 0.1*torch.randn(batch_size, timesteps)\n",
    "    return series.unsqueeze(2)\n",
    "\n",
    "class TimeSeriesDataset(torch.utils.data.Dataset):\n",
    "    def __init__(self, batch_size, timestep, nsteps, seq_to_seq=True):\n",
    "        series = generate_timeseries(batch_size, timestep)\n",
    "        self.X, y = series[:, :nsteps, :], series[:, nsteps:, 0]\n",
    "        if seq_to_seq:\n",
    "            self.y = torch.empty(batch_size, nsteps, timestep-nsteps)\n",
    "            for i in range(1, timestep-nsteps+1):\n",
    "                self.y[:, :, i-1] = series[:,i:i+nsteps,0]\n",
    "        else:\n",
    "            self.y = y\n",
    "        \n",
    "    def __len__(self):\n",
    "        return len(self.X)\n",
    "    \n",
    "    def __getitem__(self, idx):\n",
    "        return self.X[idx], self.y[idx]\n",
    "\n",
    "\n",
    "data = TimeSeriesDataset(10000, 100, 80)\n",
    "train_data, test_data = torch.utils.data.Subset(data, range(9000)), torch.utils.data.Subset(data, range(9000, 10000))\n",
    "batch_size = 256\n",
    "Train_data, Val_data = torch.utils.data.Subset(data, range(7200)), torch.utils.data.Subset(data, range(7200, 9000))\n",
    "Train_Loader, Val_Loader = torch.utils.data.DataLoader(Train_data, batch_size=batch_size, shuffle=True), torch.utils.data.DataLoader(Val_data, batch_size=batch_size)"
   ]
  },
  {
   "cell_type": "code",
   "execution_count": 38,
   "metadata": {},
   "outputs": [],
   "source": [
    "class AutoRegressor(torch.nn.Module):\n",
    "    def __init__(self, in_feature, out_feature, nsteps, activation, **kwargs) -> None:\n",
    "        super().__init__()\n",
    "        self.rnn = torch.nn.RNN(in_feature, out_feature, **kwargs)\n",
    "        self.linear = torch.nn.Linear(out_feature, nsteps)\n",
    "        self.activation = activation\n",
    "\n",
    "    def forward(self, x):\n",
    "        output, _ = self.rnn(x)\n",
    "        return self.activation(self.linear(output))\n"
   ]
  },
  {
   "cell_type": "code",
   "execution_count": 41,
   "metadata": {},
   "outputs": [],
   "source": [
    "reg = AutoRegressor(1, 40, 20, torch.nn.Tanh(), batch_first=True, num_layers=1).cuda()\n",
    "loss_lst = [torch.nn.MSELoss(reduction='mean'), torch.nn.L1Loss(reduction='mean')]\n",
    "optimizer = torch.optim.Adam(reg.parameters(), lr=0.05)\n",
    "metric = [torchmetrics.MeanAbsoluteError().cuda()]"
   ]
  },
  {
   "cell_type": "code",
   "execution_count": 42,
   "metadata": {},
   "outputs": [
    {
     "name": "stdout",
     "output_type": "stream",
     "text": [
      "state in epoch 1:  {'loss_1': 0.0510200634598732, 'loss_2': 0.12735554575920105, 'metric_1: ': 0.2547110915184021, 'val loss_1': 0.05903518572449684, 'val loss_2': 0.13847874104976654, 'val metric_1': 0.2766377329826355}\n",
      "state in epoch 2:  {'loss_1': 0.031995248049497604, 'loss_2': 0.09884349256753922, 'metric_1: ': 0.19768700003623962, 'val loss_1': 0.032470595091581345, 'val loss_2': 0.10190790146589279, 'val metric_1': 0.20152884721755981}\n",
      "state in epoch 3:  {'loss_1': 0.029194969683885574, 'loss_2': 0.0957464799284935, 'metric_1: ': 0.191492959856987, 'val loss_1': 0.026722077280282974, 'val loss_2': 0.09241601824760437, 'val metric_1': 0.185435488820076}\n",
      "state in epoch 4:  {'loss_1': 0.031421903520822525, 'loss_2': 0.0989123210310936, 'metric_1: ': 0.1978246569633484, 'val loss_1': 0.031038284301757812, 'val loss_2': 0.10005152225494385, 'val metric_1': 0.20027130842208862}\n",
      "state in epoch 5:  {'loss_1': 0.03118431568145752, 'loss_2': 0.0977666825056076, 'metric_1: ': 0.1955333650112152, 'val loss_1': 0.029392851516604424, 'val loss_2': 0.09718398749828339, 'val metric_1': 0.18900036811828613}\n",
      "state in epoch 6:  {'loss_1': 0.026196446269750595, 'loss_2': 0.08918433636426926, 'metric_1: ': 0.1783686876296997, 'val loss_1': 0.029463188722729683, 'val loss_2': 0.09732890874147415, 'val metric_1': 0.18567635118961334}\n",
      "state in epoch 7:  {'loss_1': 0.024537378922104836, 'loss_2': 0.08514943718910217, 'metric_1: ': 0.17029887437820435, 'val loss_1': 0.02490062825381756, 'val loss_2': 0.08817581087350845, 'val metric_1': 0.18199990689754486}\n",
      "state in epoch 8:  {'loss_1': 0.025762133300304413, 'loss_2': 0.08946263045072556, 'metric_1: ': 0.1789252609014511, 'val loss_1': 0.024965345859527588, 'val loss_2': 0.08905437588691711, 'val metric_1': 0.17746353149414062}\n",
      "state in epoch 9:  {'loss_1': 0.02981370873749256, 'loss_2': 0.09499551355838776, 'metric_1: ': 0.1899910420179367, 'val loss_1': 0.03655146062374115, 'val loss_2': 0.10668405145406723, 'val metric_1': 0.20760490000247955}\n",
      "state in epoch 10:  {'loss_1': 0.032537057995796204, 'loss_2': 0.10104122012853622, 'metric_1: ': 0.20208244025707245, 'val loss_1': 0.030530452728271484, 'val loss_2': 0.09854859858751297, 'val metric_1': 0.19166545569896698}\n",
      "state in epoch 11:  {'loss_1': 0.026233259588479996, 'loss_2': 0.0900922566652298, 'metric_1: ': 0.1801845133304596, 'val loss_1': 0.030594954267144203, 'val loss_2': 0.09753305464982986, 'val metric_1': 0.1876886934041977}\n",
      "state in epoch 12:  {'loss_1': 0.027665890753269196, 'loss_2': 0.09025240689516068, 'metric_1: ': 0.18050481379032135, 'val loss_1': 0.02579197846353054, 'val loss_2': 0.09047741442918777, 'val metric_1': 0.1773567646741867}\n",
      "state in epoch 13:  {'loss_1': 0.028430309146642685, 'loss_2': 0.09285224974155426, 'metric_1: ': 0.18570449948310852, 'val loss_1': 0.02682371623814106, 'val loss_2': 0.09234773367643356, 'val metric_1': 0.1849709153175354}\n",
      "state in epoch 14:  {'loss_1': 0.023374905809760094, 'loss_2': 0.0844215601682663, 'metric_1: ': 0.1688431203365326, 'val loss_1': 0.02405686303973198, 'val loss_2': 0.08794180303812027, 'val metric_1': 0.17857007682323456}\n",
      "state in epoch 15:  {'loss_1': 0.028087500482797623, 'loss_2': 0.09187252074480057, 'metric_1: ': 0.18374504148960114, 'val loss_1': 0.03008768893778324, 'val loss_2': 0.09807147085666656, 'val metric_1': 0.18617796897888184}\n",
      "state in epoch 16:  {'loss_1': 0.024602007120847702, 'loss_2': 0.08607999980449677, 'metric_1: ': 0.17215999960899353, 'val loss_1': 0.025992218405008316, 'val loss_2': 0.09104061126708984, 'val metric_1': 0.17910391092300415}\n",
      "state in epoch 17:  {'loss_1': 0.02362077869474888, 'loss_2': 0.08557961881160736, 'metric_1: ': 0.17115925252437592, 'val loss_1': 0.027440909296274185, 'val loss_2': 0.09355907142162323, 'val metric_1': 0.17714783549308777}\n",
      "state in epoch 18:  {'loss_1': 0.03160848841071129, 'loss_2': 0.0984228104352951, 'metric_1: ': 0.1968456208705902, 'val loss_1': 0.02936558611690998, 'val loss_2': 0.095256008207798, 'val metric_1': 0.19294963777065277}\n",
      "state in epoch 19:  {'loss_1': 0.02405671589076519, 'loss_2': 0.08625616878271103, 'metric_1: ': 0.17251233756542206, 'val loss_1': 0.028207682073116302, 'val loss_2': 0.09496650844812393, 'val metric_1': 0.1838480830192566}\n",
      "state in epoch 20:  {'loss_1': 0.027109703049063683, 'loss_2': 0.09165109694004059, 'metric_1: ': 0.18330219388008118, 'val loss_1': 0.02842482551932335, 'val loss_2': 0.09470358490943909, 'val metric_1': 0.1848573088645935}\n"
     ]
    }
   ],
   "source": [
    "for epoch in range(20):\n",
    "    d = {}\n",
    "    reg.train()\n",
    "    for X, y in Train_Loader:\n",
    "        X, y = X.cuda(), y.cuda()\n",
    "        pred = reg(X)\n",
    "        optimizer.zero_grad()\n",
    "        for i, loss_fn in enumerate(loss_lst):\n",
    "            loss = loss_fn(pred, y)/len(loss_lst)\n",
    "            if i == len(loss_lst)-1:\n",
    "                loss.backward()\n",
    "            else:\n",
    "                loss.backward(retain_graph=True)\n",
    "            d.update({f'loss_{i+1}': loss.item()})\n",
    "        optimizer.step()     \n",
    "        for i, metric_fn in enumerate(metric):\n",
    "            metric_fn.update(pred, y)\n",
    "            d.update({f'metric_{i+1}: ' : metric_fn.compute().item()})\n",
    "        metric_fn.reset()\n",
    "    reg.eval()\n",
    "    with torch.no_grad():\n",
    "        for X, y in Val_Loader:\n",
    "            X, y = X.cuda(), y.cuda()\n",
    "            pred = reg(X)\n",
    "            for i, loss_fn in enumerate(loss_lst):\n",
    "                loss = loss_fn(pred, y)/len(loss_lst)\n",
    "                d.update({f'val loss_{i+1}': loss.item()})\n",
    "            for i, metric_fn in enumerate(metric):\n",
    "                metric_fn.update(pred, y)\n",
    "                d.update({f'val metric_{i+1}': metric_fn.compute().item()})\n",
    "        metric_fn.reset()\n",
    "    print(f'state in epoch {epoch+1}: ', d)"
   ]
  },
  {
   "cell_type": "code",
   "execution_count": null,
   "metadata": {},
   "outputs": [],
   "source": []
  }
 ],
 "metadata": {
  "interpreter": {
   "hash": "b3ba2566441a7c06988d0923437866b63cedc61552a5af99d1f4fb67d367b25f"
  },
  "kernelspec": {
   "display_name": "Python 3.9.7 ('base')",
   "language": "python",
   "name": "python3"
  },
  "language_info": {
   "codemirror_mode": {
    "name": "ipython",
    "version": 3
   },
   "file_extension": ".py",
   "mimetype": "text/x-python",
   "name": "python",
   "nbconvert_exporter": "python",
   "pygments_lexer": "ipython3",
   "version": "3.9.7"
  },
  "orig_nbformat": 4
 },
 "nbformat": 4,
 "nbformat_minor": 2
}
