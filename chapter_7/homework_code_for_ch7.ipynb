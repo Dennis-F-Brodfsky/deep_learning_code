{
 "cells": [
  {
   "cell_type": "markdown",
   "metadata": {},
   "source": [
    "## 导入Python包"
   ]
  },
  {
   "cell_type": "code",
   "execution_count": 1,
   "metadata": {
    "vscode": {
     "languageId": "plaintext"
    }
   },
   "outputs": [],
   "source": [
    "import time\n",
    "import torch\n",
    "import torchvision\n",
    "import torchmetrics\n",
    "from hyperopt import hp\n",
    "from torch.utils import data\n",
    "from torchvision import transforms\n",
    "import matplotlib.pyplot as plt\n",
    "from IPython import display\n",
    "from matplotlib_inline import backend_inline\n",
    "import numpy as np\n",
    "import ray.tune\n",
    "import os"
   ]
  },
  {
   "cell_type": "markdown",
   "metadata": {},
   "source": [
    "## code from d2l"
   ]
  },
  {
   "cell_type": "code",
   "execution_count": 2,
   "metadata": {
    "vscode": {
     "languageId": "plaintext"
    }
   },
   "outputs": [],
   "source": [
    "def use_svg_display():\n",
    "    backend_inline.set_matplotlib_formats('svg')\n",
    "\n",
    "\n",
    "def set_figsize(figsize=(3.5, 2.5)):\n",
    "    use_svg_display()\n",
    "    plt.rcParams['figure.figsize'] = figsize\n",
    "\n",
    "def set_axes(axes, xlabel, ylabel, xlim, ylim, xscale, yscale, legend):\n",
    "    \"\"\"设置matplotlib的轴\n",
    "\n",
    "    Defined in :numref:`sec_calculus`\"\"\"\n",
    "    axes.set_xlabel(xlabel)\n",
    "    axes.set_ylabel(ylabel)\n",
    "    axes.set_xscale(xscale)\n",
    "    axes.set_yscale(yscale)\n",
    "    axes.set_xlim(xlim)\n",
    "    axes.set_ylim(ylim)\n",
    "    if legend:\n",
    "        axes.legend(legend)\n",
    "    axes.grid()\n",
    "\n",
    "def plot(X, Y=None, xlabel=None, ylabel=None, legend=None, xlim=None,\n",
    "         ylim=None, xscale='linear', yscale='linear',\n",
    "         fmts=('-', 'm--', 'g-.', 'r:'), figsize=(3.5, 2.5), axes=None):\n",
    "    \"\"\"绘制数据点\n",
    "\n",
    "    Defined in :numref:`sec_calculus`\"\"\"\n",
    "    if legend is None:\n",
    "        legend = []\n",
    "\n",
    "    set_figsize(figsize)\n",
    "    axes = axes if axes else plt.gca()\n",
    "\n",
    "    # 如果X有一个轴，输出True\n",
    "    def has_one_axis(X):\n",
    "        return (hasattr(X, \"ndim\") and X.ndim == 1 or isinstance(X, list)\n",
    "                and not hasattr(X[0], \"__len__\"))\n",
    "\n",
    "    if has_one_axis(X):\n",
    "        X = [X]\n",
    "    if Y is None:\n",
    "        X, Y = [[]] * len(X), X\n",
    "    elif has_one_axis(Y):\n",
    "        Y = [Y]\n",
    "    if len(X) != len(Y):\n",
    "        X = X * len(Y)\n",
    "    axes.cla()\n",
    "    for x, y, fmt in zip(X, Y, fmts):\n",
    "        if len(x):\n",
    "            axes.plot(x, y, fmt)\n",
    "        else:\n",
    "            axes.plot(y, fmt)\n",
    "    set_axes(axes, xlabel, ylabel, xlim, ylim, xscale, yscale, legend)\n",
    "\n",
    "DATA_PATH = './data'\n",
    "\n",
    "def get_dataloader_workers():\n",
    "    \"\"\"使用4个进程来读取数据\n",
    "\n",
    "    Defined in :numref:`sec_fashion_mnist`\"\"\"\n",
    "    return os.cpu_count()\n",
    "\n",
    "def try_gpu(i=0):\n",
    "    if torch.cuda.device_count() >= i + 1:\n",
    "        return torch.device(f'cuda:{i}')\n",
    "    return torch.device('cpu')\n",
    "\n",
    "def load_data_fashion_mnist(batch_size, resize=None):\n",
    "    \"\"\"下载Fashion-MNIST数据集，然后将其加载到内存中\n",
    "\n",
    "    Defined in :numref:`sec_fashion_mnist`\"\"\"\n",
    "    trans = [transforms.ToTensor()]\n",
    "    if resize:\n",
    "        trans.insert(0, transforms.Resize(resize))\n",
    "    trans = transforms.Compose(trans)\n",
    "    mnist_train = torchvision.datasets.FashionMNIST(\n",
    "        root=DATA_PATH, train=True, transform=trans, download=True)\n",
    "    mnist_test = torchvision.datasets.FashionMNIST(\n",
    "        root=DATA_PATH, train=False, transform=trans, download=True)\n",
    "    return (data.DataLoader(mnist_train, batch_size, shuffle=True,\n",
    "                            num_workers=get_dataloader_workers()),\n",
    "            data.DataLoader(mnist_test, batch_size, shuffle=False,\n",
    "                            num_workers=get_dataloader_workers()))\n",
    "\n",
    "def get_fashion_mnist_labels(labels):\n",
    "    text_labels = ['t-shirt', 'trouser', 'pullover', 'dress', 'coat',\n",
    "                   'sandal', 'shirt', 'sneaker', 'bag', 'ankle boot']\n",
    "    return [text_labels[int(i)] for i in labels]\n",
    "\n",
    "def show_images(imgs, num_rows, num_cols, titles=None, scale=1.5):\n",
    "    \"\"\"绘制图像列表\n",
    "\n",
    "    Defined in :numref:`sec_fashion_mnist`\"\"\"\n",
    "    figsize = (num_cols * scale, num_rows * scale)\n",
    "    _, axes = plt.subplots(num_rows, num_cols, figsize=figsize)\n",
    "    axes = axes.flatten()\n",
    "    for i, (ax, img) in enumerate(zip(axes, imgs)):\n",
    "        if torch.is_tensor(img):\n",
    "            # 图片张量\n",
    "            ax.imshow(img.numpy())\n",
    "        else:\n",
    "            # PIL图片\n",
    "            ax.imshow(img)\n",
    "        ax.axes.get_xaxis().set_visible(False)\n",
    "        ax.axes.get_yaxis().set_visible(False)\n",
    "        if titles:\n",
    "            ax.set_title(titles[i])\n",
    "    return axes\n",
    "\n",
    "def accuracy(y_hat, y):\n",
    "    if len(y_hat.shape) > 1 and y_hat.shape[1] > 1:\n",
    "        y_hat = y_hat.argmax(axis=1)\n",
    "    cmp = y_hat.type(y.dtype) == y\n",
    "    return float(cmp.type(y.dtype).sum())\n",
    "\n",
    "class Accumulator:\n",
    "    \"\"\"在n个变量上累加\"\"\"\n",
    "    def __init__(self, n):\n",
    "        \"\"\"Defined in :numref:`sec_softmax_scratch`\"\"\"\n",
    "        self.data = [0.0] * n\n",
    "\n",
    "    def add(self, *args):\n",
    "        self.data = [a + float(b) for a, b in zip(self.data, args)]\n",
    "\n",
    "    def reset(self):\n",
    "        self.data = [0.0] * len(self.data)\n",
    "\n",
    "    def __getitem__(self, idx):\n",
    "        return self.data[idx]\n",
    "\n",
    "class Animator:\n",
    "    \"\"\"在动画中绘制数据\"\"\"\n",
    "    def __init__(self, xlabel=None, ylabel=None, legend=None, xlim=None,\n",
    "                 ylim=None, xscale='linear', yscale='linear',\n",
    "                 fmts=('-', 'm--', 'g-.', 'r:'), nrows=1, ncols=1,\n",
    "                 figsize=(3.5, 2.5)):\n",
    "        \"\"\"Defined in :numref:`sec_softmax_scratch`\"\"\"\n",
    "        # 增量地绘制多条线\n",
    "        if legend is None:\n",
    "            legend = []\n",
    "        self.fig, self.axes = plt.subplots(nrows, ncols, figsize=figsize)\n",
    "        if nrows * ncols == 1:\n",
    "            self.axes = [self.axes, ]\n",
    "        # 使用lambda函数捕获参数\n",
    "        self.config_axes = lambda: set_axes(\n",
    "            self.axes[0], xlabel, ylabel, xlim, ylim, xscale, yscale, legend)\n",
    "        self.X, self.Y, self.fmts = None, None, fmts\n",
    "    \n",
    "    def add(self, x, y):\n",
    "        # 这一部分的目的是，序列化输入x，y\n",
    "        if not hasattr(y, \"__len__\"):\n",
    "            y = [y]\n",
    "        n = len(y)\n",
    "        if not hasattr(x, \"__len__\"):\n",
    "            x = [x] * n\n",
    "        # 初始化主类的数据存储\n",
    "        if not self.X:\n",
    "            self.X = [[] for _ in range(n)]\n",
    "        if not self.Y:\n",
    "            self.Y = [[] for _ in range(n)]\n",
    "        # 逐一添加数据\n",
    "        for i, (a, b) in enumerate(zip(x, y)):\n",
    "            if a is not None and b is not None:\n",
    "                self.X[i].append(a)\n",
    "                self.Y[i].append(b)\n",
    "        self.axes[0].cla()\n",
    "        # 依次画线，此处应当注意x，y的线的数量超过fmts的长度时，应当自定义self.fmts\n",
    "        for x, y, fmt in zip(self.X, self.Y, self.fmts):\n",
    "            self.axes[0].plot(x, y, fmt)\n",
    "        self.config_axes()\n",
    "        display.display(self.fig)\n",
    "        display.clear_output(wait=True)\n",
    "\n",
    "class Timer:\n",
    "    \"\"\"记录多次运行时间\"\"\"\n",
    "    def __init__(self):\n",
    "        \"\"\"Defined in :numref:`subsec_linear_model`\"\"\"\n",
    "        self.times = []\n",
    "        self.start()\n",
    "\n",
    "    def start(self):\n",
    "        \"\"\"启动计时器\"\"\"\n",
    "        self.tik = time.time()\n",
    "\n",
    "    def stop(self):\n",
    "        \"\"\"停止计时器并将时间记录在列表中\"\"\"\n",
    "        self.times.append(time.time() - self.tik)\n",
    "        return self.times[-1]\n",
    "\n",
    "    def avg(self):\n",
    "        \"\"\"返回平均时间\"\"\"\n",
    "        return sum(self.times) / len(self.times)\n",
    "\n",
    "    def sum(self):\n",
    "        \"\"\"返回时间总和\"\"\"\n",
    "        return sum(self.times)\n",
    "\n",
    "    def cumsum(self):\n",
    "        \"\"\"返回累计时间\"\"\"\n",
    "        return np.array(self.times).cumsum().tolist()\n",
    "\n",
    "def evaluate_accuracy_gpu(net, data_iter, device=None): #@save\n",
    "    \"\"\"使用GPU计算模型在数据集上的精度\"\"\"\n",
    "    if isinstance(net, torch.nn.Module):\n",
    "        net.eval()  # 设置为评估模式\n",
    "        if not device:\n",
    "            device = next(iter(net.parameters())).device\n",
    "    # 正确预测的数量，总预测的数量\n",
    "    metric = Accumulator(2)#创建一个累加器，包含2个要累加的元素\n",
    "    with torch.no_grad():\n",
    "        for X, y in data_iter:\n",
    "            if isinstance(X, list):\n",
    "                # BERT微调所需的（之后将介绍）\n",
    "                X = [x.to(device) for x in X]\n",
    "            else:\n",
    "                X = X.to(device)\n",
    "            y = y.to(device)\n",
    "            metric.add(accuracy(net(X), y), y.numel())#把每一组数据预测结果正确的个数和长度累加\n",
    "    return metric[0] / metric[1]\n",
    "\n",
    "def train_ch6(net, train_iter, test_iter, num_epochs, lr, device):\n",
    "    \"\"\"用GPU训练模型(在第六章定义)\n",
    "\n",
    "    Defined in :numref:`sec_lenet`\"\"\"\n",
    "    def init_weights(m):\n",
    "        if type(m) == torch.nn.Linear or type(m) == torch.nn.Conv2d:\n",
    "            torch.nn.init.xavier_uniform_(m.weight)\n",
    "    net.apply(init_weights)\n",
    "    print('training on', device)\n",
    "    net.to(device)\n",
    "    optimizer = torch.optim.SGD(net.parameters(), lr=lr)\n",
    "    loss = torch.nn.CrossEntropyLoss()\n",
    "    animator = Animator(xlabel='epoch', xlim=[1, num_epochs],\n",
    "                            legend=['train loss', 'train acc', 'test acc'])\n",
    "    timer, num_batches = Timer(), len(train_iter)\n",
    "    for epoch in range(num_epochs):\n",
    "        # 训练损失之和，训练准确率之和，样本数\n",
    "        metric = Accumulator(3)\n",
    "        net.train()\n",
    "        for i, (X, y) in enumerate(train_iter):\n",
    "            timer.start()\n",
    "            optimizer.zero_grad()\n",
    "            X, y = X.to(device), y.to(device)\n",
    "            y_hat = net(X)\n",
    "            l = loss(y_hat, y)\n",
    "            l.backward()\n",
    "            optimizer.step()\n",
    "            with torch.no_grad():\n",
    "                metric.add(l * X.shape[0], accuracy(y_hat, y), X.shape[0])\n",
    "            timer.stop()\n",
    "            train_l = metric[0] / metric[2]\n",
    "            train_acc = metric[1] / metric[2]\n",
    "            if (i + 1) % (num_batches // 5) == 0 or i == num_batches - 1:\n",
    "                animator.add(epoch + (i + 1) / num_batches,\n",
    "                             (train_l, train_acc, None))\n",
    "        test_acc = evaluate_accuracy_gpu(net, test_iter)\n",
    "        animator.add(epoch + 1, (None, None, test_acc))\n",
    "    print(f'loss {train_l:.3f}, train acc {train_acc:.3f}, '\n",
    "          f'test acc {test_acc:.3f}')\n",
    "    print(f'{metric[2] * num_epochs / timer.sum():.1f} examples/sec '\n",
    "          f'on {str(device)}')\n",
    "\n"
   ]
  },
  {
   "cell_type": "markdown",
   "metadata": {},
   "source": [
    "## homework code in ch7 sec1"
   ]
  },
  {
   "cell_type": "code",
   "execution_count": 3,
   "metadata": {},
   "outputs": [],
   "source": [
    "batch_size = 128\n",
    "lr, num_epochs = 0.01, 15"
   ]
  },
  {
   "cell_type": "code",
   "execution_count": 11,
   "metadata": {},
   "outputs": [
    {
     "name": "stdout",
     "output_type": "stream",
     "text": [
      "loss 0.257, train acc 0.903, test acc 0.875\n",
      "22329.3 examples/sec on cuda:0\n"
     ]
    },
    {
     "data": {
      "image/png": "[encoded data removed]",
      "text/plain": [
       "<Figure size 252x180 with 1 Axes>"
      ]
     },
     "metadata": {
      "needs_background": "light"
     },
     "output_type": "display_data"
    }
   ],
   "source": [
    "# T1\n",
    "lenet = torch.nn.Sequential(\n",
    "    torch.nn.Conv2d(1, 6, kernel_size=5, padding=2), torch.nn.ReLU(),\n",
    "    torch.nn.AvgPool2d(kernel_size=2, stride=2),\n",
    "    torch.nn.Conv2d(6, 16, kernel_size=5), torch.nn.ReLU(),\n",
    "    torch.nn.AvgPool2d(kernel_size=2, stride=2),\n",
    "    torch.nn.Flatten(),\n",
    "    torch.nn.Linear(16 * 5 * 5, 120), torch.nn.ReLU(),\n",
    "    torch.nn.Linear(120, 84), torch.nn.ReLU(),\n",
    "    torch.nn.Linear(84, 10))\n",
    "\n",
    "lenet = torch.nn.DataParallel(lenet)\n",
    "train_iter, test_iter = load_data_fashion_mnist(batch_size)\n",
    "train_ch6(lenet, train_iter, test_iter, num_epochs, 0.1, try_gpu())\n",
    "torch.cuda.empty_cache()"
   ]
  },
  {
   "cell_type": "code",
   "execution_count": 8,
   "metadata": {
    "vscode": {
     "languageId": "plaintext"
    }
   },
   "outputs": [
    {
     "name": "stdout",
     "output_type": "stream",
     "text": [
      "loss 0.165, train acc 0.939, test acc 0.916\n",
      "787.0 examples/sec on cuda:0\n"
     ]
    },
    {
     "data": {
      "image/png": "[encoded data removed]",
      "text/plain": [
       "<Figure size 252x180 with 1 Axes>"
      ]
     },
     "metadata": {
      "needs_background": "light"
     },
     "output_type": "display_data"
    }
   ],
   "source": [
    "alexnet = torch.nn.Sequential(\n",
    "    torch.nn.Conv2d(1, 96, kernel_size=11, stride=4, padding=1), torch.nn.ReLU(),\n",
    "    torch.nn.MaxPool2d(kernel_size=3, stride=2),\n",
    "    torch.nn.Conv2d(96, 256, kernel_size=5, padding=2), torch.nn.ReLU(),\n",
    "    torch.nn.MaxPool2d(kernel_size=3, stride=2),\n",
    "    torch.nn.Conv2d(256, 384, kernel_size=3, padding=1), torch.nn.ReLU(),\n",
    "    torch.nn.Conv2d(384, 384, kernel_size=3, padding=1), torch.nn.ReLU(),\n",
    "    torch.nn.Conv2d(384, 256, kernel_size=3, padding=1), torch.nn.ReLU(),\n",
    "    torch.nn.MaxPool2d(kernel_size=3, stride=2),\n",
    "    torch.nn.Flatten(),\n",
    "    torch.nn.Linear(6400, 4096), torch.nn.ReLU(),\n",
    "    torch.nn.Dropout(p=0.5),\n",
    "    torch.nn.Linear(4096, 4096), torch.nn.ReLU(),\n",
    "    torch.nn.Dropout(p=0.5),\n",
    "    torch.nn.Linear(4096, 10))\n",
    "\n",
    "alexnet = torch.nn.DataParallel(alexnet)\n",
    "train_iter, test_iter = load_data_fashion_mnist(batch_size, resize=224)\n",
    "train_ch6(alexnet, train_iter, test_iter, num_epochs, 0.05, try_gpu())\n",
    "torch.cuda.empty_cache()"
   ]
  },
  {
   "cell_type": "code",
   "execution_count": 11,
   "metadata": {},
   "outputs": [
    {
     "name": "stdout",
     "output_type": "stream",
     "text": [
      "loss 0.228, train acc 0.915, test acc 0.912\n",
      "6290.6 examples/sec on cuda:0\n",
      "gpu_usage: 420.18 MB\n"
     ]
    },
    {
     "data": {
      "image/png": "[encoded data removed]",
      "text/plain": [
       "<Figure size 252x180 with 1 Axes>"
      ]
     },
     "metadata": {
      "needs_background": "light"
     },
     "output_type": "display_data"
    }
   ],
   "source": [
    "#T2 T3\n",
    "alexnet_v2 = torch.nn.Sequential(\n",
    "    torch.nn.Conv2d(1, 96, kernel_size=5, padding=2), torch.nn.ReLU(),\n",
    "    torch.nn.MaxPool2d(kernel_size=3, stride=2),\n",
    "    torch.nn.Conv2d(96, 144, kernel_size=3, padding=1), torch.nn.ReLU(),\n",
    "    torch.nn.Conv2d(144, 144, kernel_size=3, padding=1), torch.nn.ReLU(),\n",
    "    torch.nn.Conv2d(144, 96, kernel_size=3, padding=1), torch.nn.ReLU(),\n",
    "    torch.nn.MaxPool2d(kernel_size=3, stride=2),\n",
    "    torch.nn.Flatten(),\n",
    "    torch.nn.Linear(96*6*6, 1024), torch.nn.ReLU(),\n",
    "    torch.nn.Dropout(p=0.5),\n",
    "    torch.nn.Linear(1024, 1024), torch.nn.ReLU(),\n",
    "    torch.nn.Dropout(p=0.5),\n",
    "    torch.nn.Linear(1024, 10))\n",
    "\n",
    "alexnet_v2 = torch.nn.DataParallel(alexnet_v2)\n",
    "train_iter, test_iter = load_data_fashion_mnist(batch_size)\n",
    "train_ch6(alexnet_v2, train_iter, test_iter, num_epochs, 0.05, try_gpu())\n",
    "print(f'gpu_usage: {torch.cuda.memory_allocated()/(1024*1024):5.5} MB')\n",
    "torch.cuda.empty_cache()"
   ]
  },
  {
   "cell_type": "code",
   "execution_count": 12,
   "metadata": {},
   "outputs": [
    {
     "name": "stdout",
     "output_type": "stream",
     "text": [
      "loss 0.385, train acc 0.865, test acc 0.872\n",
      "22101.4 examples/sec on cuda:0\n"
     ]
    },
    {
     "data": {
      "image/png": "[encoded data removed]",
      "text/plain": [
       "<Figure size 252x180 with 1 Axes>"
      ]
     },
     "metadata": {
      "needs_background": "light"
     },
     "output_type": "display_data"
    }
   ],
   "source": [
    "# T5\n",
    "lenet_v2 = torch.nn.Sequential(\n",
    "    torch.nn.Conv2d(1, 6, kernel_size=5, padding=2), torch.nn.ReLU(),\n",
    "    torch.nn.AvgPool2d(kernel_size=2, stride=2),\n",
    "    torch.nn.Conv2d(6, 16, kernel_size=5), torch.nn.ReLU(),\n",
    "    torch.nn.AvgPool2d(kernel_size=2, stride=2),\n",
    "    torch.nn.Flatten(),\n",
    "    torch.nn.Linear(16 * 5 * 5, 120), torch.nn.ReLU(), torch.nn.Dropout(0.5),\n",
    "    torch.nn.Linear(120, 84), torch.nn.ReLU(), torch.nn.Dropout(0.5),\n",
    "    torch.nn.Linear(84, 10))\n",
    "\n",
    "lenet_v2 = torch.nn.DataParallel(lenet_v2)\n",
    "train_iter, test_iter = load_data_fashion_mnist(batch_size)\n",
    "train_ch6(lenet_v2, train_iter, test_iter, num_epochs, 0.1, try_gpu())\n",
    "torch.cuda.empty_cache()"
   ]
  },
  {
   "cell_type": "markdown",
   "metadata": {},
   "source": [
    "## homework code in ch7 sec2"
   ]
  },
  {
   "cell_type": "code",
   "execution_count": 24,
   "metadata": {},
   "outputs": [],
   "source": [
    "class vgg_block(torch.nn.Module):\n",
    "    def __init__(self, num_layer, in_channel, out_channel):\n",
    "        super().__init__()\n",
    "        self.vgg_block = torch.nn.Sequential()\n",
    "        in_channel = in_channel\n",
    "        for _ in range(num_layer):\n",
    "            self.vgg_block.append(torch.nn.Conv2d(in_channel, out_channel, kernel_size=3, padding=1))\n",
    "            self.vgg_block.append(torch.nn.ReLU())\n",
    "            in_channel = out_channel\n",
    "        self.vgg_block.append(torch.nn.MaxPool2d(kernel_size=2, stride=2))\n",
    "            \n",
    "    def forward(self, x):\n",
    "        return self.vgg_block(x)\n",
    "\n",
    "class vgg_net(torch.nn.Module):\n",
    "    def __init__(self, layers, out_channels, in_channels=1, input_shape=[1, 224, 224]):\n",
    "        super().__init__()\n",
    "        height, width = input_shape[1], input_shape[2]\n",
    "        in_channel = in_channels\n",
    "        self.conv_part = torch.nn.Sequential()\n",
    "        for layer, out_channel in zip(layers, out_channels):\n",
    "            self.conv_part.append(vgg_block(layer, in_channel, out_channel))\n",
    "            in_channel = out_channel\n",
    "            height, width = height // 2, width // 2\n",
    "        self.fc_part = torch.nn.Sequential(torch.nn.Flatten(), \n",
    "                                            torch.nn.Linear(in_channel*height*width, 4096), torch.nn.ReLU(),torch.nn.Dropout(0.5),\n",
    "                                            torch.nn.Linear(4096, 4096), torch.nn.ReLU(),torch.nn.Dropout(0.5),\n",
    "                                            torch.nn.Linear(4096, 10))\n",
    "    \n",
    "    def forward(self, x):\n",
    "        x = self.conv_part(x)\n",
    "        return self.fc_part(x)"
   ]
  },
  {
   "cell_type": "code",
   "execution_count": 26,
   "metadata": {},
   "outputs": [
    {
     "name": "stdout",
     "output_type": "stream",
     "text": [
      "loss 0.172, train acc 0.936, test acc 0.919\n",
      "211.5 examples/sec on cuda:0\n",
      "gpu_usage: 1025.5 MB\n"
     ]
    },
    {
     "data": {
      "image/png": "[encoded data removed]",
      "text/plain": [
       "<Figure size 252x180 with 1 Axes>"
      ]
     },
     "metadata": {
      "needs_background": "light"
     },
     "output_type": "display_data"
    }
   ],
   "source": [
    "# vgg-16 ((2, 64), (2, 128), (3, 256), (3, 512), (3, 512))\n",
    "# vgg-19 ((2, 64), (2, 128), (4, 256), (4, 512), (4, 512))\n",
    "vgg_16 = vgg_net((2,2,3,3,3), (64, 128, 256, 512, 512))\n",
    "vgg_16 = torch.nn.DataParallel(vgg_16)\n",
    "train_iter, test_iter = load_data_fashion_mnist(batch_size, 224)\n",
    "train_ch6(vgg_16, train_iter, test_iter, num_epochs-5, 0.05, try_gpu())\n",
    "print(f'gpu_usage: {torch.cuda.memory_allocated()/(1024*1024):5.5} MB')\n",
    "torch.cuda.empty_cache()"
   ]
  },
  {
   "cell_type": "code",
   "execution_count": 28,
   "metadata": {},
   "outputs": [
    {
     "name": "stdout",
     "output_type": "stream",
     "text": [
      "loss 0.239, train acc 0.912, test acc 0.911\n",
      "195.2 examples/sec on cuda:0\n",
      "gpu_usage: 2092.5 MB\n"
     ]
    },
    {
     "data": {
      "image/png": "[encoded data removed]",
      "text/plain": [
       "<Figure size 252x180 with 1 Axes>"
      ]
     },
     "metadata": {
      "needs_background": "light"
     },
     "output_type": "display_data"
    }
   ],
   "source": [
    "vgg_19 = vgg_net((2,2,4,4,4), (64, 128, 256, 512, 512))\n",
    "vgg_19 = torch.nn.DataParallel(vgg_19)\n",
    "train_ch6(vgg_19, train_iter, test_iter, num_epochs-5, 0.05, try_gpu())\n",
    "print(f'gpu_usage: {torch.cuda.memory_allocated()/(1024*1024):5.5} MB')\n",
    "torch.cuda.empty_cache()"
   ]
  },
  {
   "cell_type": "markdown",
   "metadata": {},
   "source": [
    "## homework code ch7 sec3"
   ]
  },
  {
   "cell_type": "code",
   "execution_count": 4,
   "metadata": {},
   "outputs": [],
   "source": [
    "class nin_block(torch.nn.Module):\n",
    "    def __init__(self, in_channel, out_channel, kernel_size, strides, padding) -> None:\n",
    "        super().__init__()\n",
    "        self.nin_block = torch.nn.Sequential(torch.nn.Conv2d(in_channel, out_channel, kernel_size, strides, padding), torch.nn.ReLU())\n",
    "        for _ in range(2):\n",
    "            self.nin_block.append(torch.nn.Conv2d(out_channel, out_channel, 1))\n",
    "            self.nin_block.append(torch.nn.ReLU())\n",
    "        \n",
    "    def forward(self, x):\n",
    "        return self.nin_block(x)\n",
    "\n",
    "class nin_net(torch.nn.Module):\n",
    "    def __init__(self, in_channels, out_channels, kernel_sizes, \n",
    "                strideses, paddings, dropout_rates) -> None:\n",
    "        super().__init__()\n",
    "        self.nin_layer = torch.nn.Sequential()\n",
    "        for i, (in_channel, out_channel, kernel_size, \\\n",
    "            strides, dropout_rate, padding) in enumerate(zip(in_channels, out_channels, \n",
    "                                                  kernel_sizes, strideses, dropout_rates, paddings)):\n",
    "            if i > 0:\n",
    "                self.nin_layer.append(torch.nn.MaxPool2d(3, 2))\n",
    "                if dropout_rate > 0:\n",
    "                    self.nin_layer.append(torch.nn.Dropout(dropout_rate))\n",
    "            self.nin_layer.append(nin_block(in_channel, out_channel, kernel_size, strides, padding))\n",
    "        self.nin_layer.append(torch.nn.AdaptiveAvgPool2d((1, 1)))\n",
    "        self.nin_layer.append(torch.nn.Flatten())\n",
    "    \n",
    "    def forward(self, x):\n",
    "        return self.nin_layer(x)\n",
    "\n",
    "class nin_block_v2(torch.nn.Module):\n",
    "    def __init__(self, in_channel, out_channel, kernel_size, strides, padding) -> None:\n",
    "        super().__init__()\n",
    "        self.nin_block = torch.nn.Sequential(torch.nn.Conv2d(in_channel, out_channel, kernel_size, strides, padding), torch.nn.ReLU())\n",
    "        self.nin_block.append(torch.nn.Conv2d(out_channel, out_channel, 1))\n",
    "        self.nin_block.append(torch.nn.ReLU())\n",
    "        \n",
    "    def forward(self, x):\n",
    "        return self.nin_block(x)\n",
    "\n",
    "class nin_net_v2(torch.nn.Module):\n",
    "    def __init__(self, in_channels, out_channels, kernel_sizes, \n",
    "                strideses, paddings, dropout_rates) -> None:\n",
    "        super().__init__()\n",
    "        self.nin_layer = torch.nn.Sequential()\n",
    "        for i, (in_channel, out_channel, kernel_size, \\\n",
    "            strides, dropout_rate, padding) in enumerate(zip(in_channels, out_channels, \n",
    "                                                  kernel_sizes, strideses, dropout_rates, paddings)):\n",
    "            if i > 0:\n",
    "                self.nin_layer.append(torch.nn.MaxPool2d(3, 2))\n",
    "                if dropout_rate > 0:\n",
    "                    self.nin_layer.append(torch.nn.Dropout(dropout_rate))\n",
    "            self.nin_layer.append(nin_block_v2(in_channel, out_channel, kernel_size, strides, padding))\n",
    "        self.nin_layer.append(torch.nn.AdaptiveAvgPool2d((1, 1)))\n",
    "        self.nin_layer.append(torch.nn.Flatten())\n",
    "    \n",
    "    def forward(self, x):\n",
    "        return self.nin_layer(x)"
   ]
  },
  {
   "cell_type": "code",
   "execution_count": null,
   "metadata": {},
   "outputs": [],
   "source": [
    "#T1\n"
   ]
  },
  {
   "cell_type": "code",
   "execution_count": 10,
   "metadata": {},
   "outputs": [
    {
     "name": "stdout",
     "output_type": "stream",
     "text": [
      "loss 0.266, train acc 0.903, test acc 0.887\n",
      "3264.7 examples/sec on cuda:0\n",
      "gpu_usage: 14.282 MB\n"
     ]
    },
    {
     "data": {
      "image/png": "[encoded data removed]",
      "text/plain": [
       "<Figure size 252x180 with 1 Axes>"
      ]
     },
     "metadata": {
      "needs_background": "light"
     },
     "output_type": "display_data"
    }
   ],
   "source": [
    "# T2\n",
    "inner_node = (96, 256, 384)\n",
    "nin_v2 = nin_net_v2((1,)+inner_node, inner_node+(10,), (11, 5, 3, 3), (4, 1, 1, 1), (0,2,1,1),(0,0,0,0.5))\n",
    "nin_v2 = torch.nn.DataParallel(nin_v2)\n",
    "train_ch6(nin_v2, train_iter, test_iter, num_epochs+5, 0.05, try_gpu())\n",
    "print(f'gpu_usage: {torch.cuda.memory_allocated()/(1024*1024):5.5} MB')\n",
    "torch.cuda.empty_cache()"
   ]
  },
  {
   "cell_type": "markdown",
   "metadata": {},
   "source": [
    "## homework code ch7 sec4"
   ]
  },
  {
   "cell_type": "code",
   "execution_count": 21,
   "metadata": {},
   "outputs": [],
   "source": [
    "#T1\n",
    "class Inception(torch.nn.Module):\n",
    "    def __init__(self, in_channels, c1, c2, c3, c4, is_batch=False, **kwargs):\n",
    "        super(Inception, self).__init__(**kwargs)\n",
    "        self.p1 = torch.nn.Sequential(torch.nn.Conv2d(in_channels, c1, kernel_size=1))\n",
    "        self.p2 = torch.nn.Sequential(torch.nn.Conv2d(in_channels, c2[0], kernel_size=1), torch.nn.ReLU(),\n",
    "                                        torch.nn.Conv2d(c2[0], c2[1], kernel_size=3, padding=1))\n",
    "        self.p3 = torch.nn.Sequential(torch.nn.Conv2d(in_channels, c3[0], kernel_size=1), torch.nn.ReLU(),\n",
    "                                        torch.nn.Conv2d(c3[0], c3[1], kernel_size=5, padding=2))\n",
    "        self.p4 = torch.nn.Sequential(torch.nn.MaxPool2d(kernel_size=3, stride=1, padding=1), torch.nn.ReLU(),\n",
    "                                        torch.nn.Conv2d(in_channels, c4, kernel_size=1))\n",
    "        self.ends = torch.nn.Sequential(torch.nn.BatchNorm2d(c1+c2[1]+c3[1]+c4), torch.nn.ReLU()) if is_batch else torch.nn.ReLU()\n",
    "\n",
    "    def forward(self, x):\n",
    "        p1 = self.p1(x)\n",
    "        p2 = self.p2(x)\n",
    "        p3 = self.p3(x)\n",
    "        p4 = self.p4(x)\n",
    "        return self.ends(torch.cat((p1, p2, p3, p4), dim=1))\n",
    "\n",
    "def Inception_block(in_channels, c1s, c2s, c3s, c4s, is_batchs):\n",
    "    block = torch.nn.Sequential(torch.nn.MaxPool2d(3, 2, 1))\n",
    "    in_channel = in_channels\n",
    "    for c1, c2, c3, c4, is_batch in zip(c1s, c2s, c3s, c4s, is_batchs):\n",
    "        block.append(Inception(in_channel, c1, c2, c3, c4, is_batch))\n",
    "        in_channel = c1 + c2[1] + c3[1] + c4\n",
    "    return block\n",
    "\n",
    "class GoogleNet(torch.nn.Module):\n",
    "    def __init__(self, c1s, c2s, c3s, c4s, is_batchs, in_channel=1) -> None:\n",
    "        super().__init__()\n",
    "        input_channel = in_channel\n",
    "        self.start_cnn = torch.nn.Sequential(torch.nn.Conv2d(input_channel, 64, 7, 2, 3), torch.nn.ReLU(),\n",
    "                                            torch.nn.MaxPool2d(3, 2, 1), torch.nn.Conv2d(64, 64, 1), torch.nn.ReLU(),\n",
    "                                            torch.nn.Conv2d(64, 192, 3, 1))\n",
    "        input_channel = 192\n",
    "        self.inception_block = torch.nn.Sequential()\n",
    "        for c1, c2, c3, c4, is_batch in zip(c1s, c2s, c3s, c4s, is_batchs):\n",
    "            self.inception_block.append(Inception_block(input_channel, c1, c2, c3, c4, is_batch))\n",
    "            input_channel = c1[-1] + c2[-1][1] + c3[-1][1] + c4[-1]\n",
    "        self.fc_layer = torch.nn.Sequential(torch.nn.AdaptiveAvgPool2d((1, 1)), torch.nn.Flatten(),\n",
    "                                            torch.nn.Dropout(0.4), torch.nn.Linear(input_channel, 10))\n",
    "    \n",
    "    def forward(self, x):\n",
    "        x = self.start_cnn(x)\n",
    "        x = self.inception_block(x)\n",
    "        x = self.fc_layer(x)\n",
    "        return x\n"
   ]
  },
  {
   "cell_type": "code",
   "execution_count": 23,
   "metadata": {},
   "outputs": [
    {
     "name": "stdout",
     "output_type": "stream",
     "text": [
      "loss 0.057, train acc 0.979, test acc 0.919\n",
      "1233.1 examples/sec on cuda:0\n",
      "gpu_usage: 62.636 MB\n"
     ]
    },
    {
     "data": {
      "image/png": "[encoded data removed]",
      "text/plain": [
       "<Figure size 252x180 with 1 Axes>"
      ]
     },
     "metadata": {
      "needs_background": "light"
     },
     "output_type": "display_data"
    }
   ],
   "source": [
    "v1 = GoogleNet(\n",
    "                ((64, 128), (192, 160, 128, 112, 256), (256, 384)), \n",
    "                (((96, 128), (128, 192)), ((96, 208), (112, 224), (128, 256), (144, 288), (160, 320)), ((160, 320), (192, 384))), \n",
    "                (((16, 32), (32, 96)), ((16, 48), (24, 64), (24, 64), (32, 64), (32, 128)), ((32, 128), (48, 128))), \n",
    "                ((32, 64), (64, 64, 64, 64, 128), (128, 128)),\n",
    "                ((1, 1), (1, 1, 1, 1, 1), (1, 1)))\n",
    "v1 = torch.nn.DataParallel(v1)\n",
    "train_iter, test_iter = load_data_fashion_mnist(batch_size, 224)\n",
    "train_ch6(v1, train_iter, test_iter, num_epochs, 0.05, try_gpu())\n",
    "print(f'gpu_usage: {torch.cuda.memory_allocated()/(1024*1024):5.5} MB')\n",
    "torch.cuda.empty_cache()"
   ]
  },
  {
   "cell_type": "markdown",
   "metadata": {},
   "source": [
    "## homework code ch7 sec 5"
   ]
  },
  {
   "cell_type": "code",
   "execution_count": 15,
   "metadata": {},
   "outputs": [
    {
     "name": "stdout",
     "output_type": "stream",
     "text": [
      "loss 0.165, train acc 0.939, test acc 0.904\n",
      "18720.6 examples/sec on cuda:0\n"
     ]
    },
    {
     "data": {
      "image/png": "[encoded data removed]",
      "text/plain": [
       "<Figure size 252x180 with 1 Axes>"
      ]
     },
     "metadata": {
      "needs_background": "light"
     },
     "output_type": "display_data"
    }
   ],
   "source": [
    "#T2\n",
    "lenet_v3 = torch.nn.Sequential(\n",
    "    torch.nn.Conv2d(1, 6, kernel_size=5, padding=2), torch.nn.BatchNorm2d(6), torch.nn.ReLU(),\n",
    "    torch.nn.AvgPool2d(kernel_size=2, stride=2),\n",
    "    torch.nn.Conv2d(6, 16, kernel_size=5), torch.nn.BatchNorm2d(16), torch.nn.ReLU(),\n",
    "    torch.nn.AvgPool2d(kernel_size=2, stride=2),\n",
    "    torch.nn.Flatten(),\n",
    "    torch.nn.Linear(16 * 5 * 5, 120), torch.nn.BatchNorm1d(120), torch.nn.ReLU(),\n",
    "    torch.nn.Linear(120, 84), torch.nn.BatchNorm1d(84), torch.nn.ReLU(),\n",
    "    torch.nn.Linear(84, 10))\n",
    "\n",
    "lenet_v3 = torch.nn.DataParallel(lenet_v3)\n",
    "train_iter, test_iter = load_data_fashion_mnist(batch_size)\n",
    "train_ch6(lenet_v3, train_iter, test_iter, num_epochs, 0.1, try_gpu())\n",
    "torch.cuda.empty_cache()"
   ]
  },
  {
   "cell_type": "code",
   "execution_count": 16,
   "metadata": {},
   "outputs": [
    {
     "name": "stdout",
     "output_type": "stream",
     "text": [
      "loss 0.191, train acc 0.929, test acc 0.896\n",
      "20095.3 examples/sec on cuda:0\n"
     ]
    },
    {
     "data": {
      "image/png": "[encoded data removed]",
      "text/plain": [
       "<Figure size 252x180 with 1 Axes>"
      ]
     },
     "metadata": {
      "needs_background": "light"
     },
     "output_type": "display_data"
    }
   ],
   "source": [
    "#T3\n",
    "lenet_v4 = torch.nn.Sequential(\n",
    "    torch.nn.Conv2d(1, 6, kernel_size=5, padding=2), torch.nn.BatchNorm2d(6), torch.nn.ReLU(),\n",
    "    torch.nn.AvgPool2d(kernel_size=2, stride=2),\n",
    "    torch.nn.Conv2d(6, 16, kernel_size=5), torch.nn.BatchNorm2d(16), torch.nn.ReLU(),\n",
    "    torch.nn.AvgPool2d(kernel_size=2, stride=2),\n",
    "    torch.nn.Flatten(),\n",
    "    torch.nn.Linear(16 * 5 * 5, 120), torch.nn.ReLU(),\n",
    "    torch.nn.Linear(120, 84), torch.nn.ReLU(),\n",
    "    torch.nn.Linear(84, 10))\n",
    "\n",
    "lenet_v4 = torch.nn.DataParallel(lenet_v4)\n",
    "train_ch6(lenet_v4, train_iter, test_iter, num_epochs, 0.1, try_gpu())\n",
    "torch.cuda.empty_cache()"
   ]
  },
  {
   "cell_type": "code",
   "execution_count": 17,
   "metadata": {},
   "outputs": [
    {
     "name": "stdout",
     "output_type": "stream",
     "text": [
      "loss 0.180, train acc 0.933, test acc 0.907\n",
      "20145.6 examples/sec on cuda:0\n"
     ]
    },
    {
     "data": {
      "image/png": "[encoded data removed]",
      "text/plain": [
       "<Figure size 252x180 with 1 Axes>"
      ]
     },
     "metadata": {
      "needs_background": "light"
     },
     "output_type": "display_data"
    }
   ],
   "source": [
    "lenet_v5 = torch.nn.Sequential(\n",
    "    torch.nn.Conv2d(1, 6, kernel_size=5, padding=2), torch.nn.ReLU(),\n",
    "    torch.nn.AvgPool2d(kernel_size=2, stride=2),\n",
    "    torch.nn.Conv2d(6, 16, kernel_size=5), torch.nn.ReLU(),\n",
    "    torch.nn.AvgPool2d(kernel_size=2, stride=2),\n",
    "    torch.nn.Flatten(),\n",
    "    torch.nn.Linear(16 * 5 * 5, 120), torch.nn.BatchNorm1d(120), torch.nn.ReLU(),\n",
    "    torch.nn.Linear(120, 84), torch.nn.BatchNorm1d(84), torch.nn.ReLU(),\n",
    "    torch.nn.Linear(84, 10))\n",
    "\n",
    "lenet_v5 = torch.nn.DataParallel(lenet_v5)\n",
    "train_iter, test_iter = load_data_fashion_mnist(batch_size)\n",
    "train_ch6(lenet_v5, train_iter, test_iter, num_epochs, 0.1, try_gpu())\n",
    "torch.cuda.empty_cache()"
   ]
  },
  {
   "cell_type": "markdown",
   "metadata": {},
   "source": [
    "## homework ch7 sec6"
   ]
  },
  {
   "cell_type": "code",
   "execution_count": 41,
   "metadata": {},
   "outputs": [],
   "source": [
    "#T2, T3, T4\n",
    "class Residual(torch.nn.Module):\n",
    "    def __init__(self, in_filter, out_filter, stride, activation=torch.nn.ReLU) -> None:\n",
    "        super().__init__()\n",
    "        self.bottle = torch.nn.Sequential(\n",
    "                                        torch.nn.BatchNorm2d(in_filter), activation(),\n",
    "                                        torch.nn.Conv2d(in_filter, out_filter, 3, stride, 1, bias=False),\n",
    "                                        torch.nn.BatchNorm2d(filter), activation(),\n",
    "                                        torch.nn.Conv2d(out_filter, out_filter, 3, 1, bias=False))\n",
    "        self.residual = torch.nn.Sequential()\n",
    "        if in_filter != out_filter:\n",
    "            self.residual.append(torch.nn.Conv2d(in_filter, out_filter, 1, stride))\n",
    "\n",
    "    def forward(self, x):\n",
    "        return torch.add(self.bottle(x), self.residual(x))\n",
    "\n",
    "\n",
    "class Bottleneck(torch.nn.Module):\n",
    "    def __init__(self, in_filter, out_filter, stride, activation=torch.nn.ReLU) -> None:\n",
    "        super().__init__()\n",
    "        filter = out_filter // 4\n",
    "        self.bottle = torch.nn.Sequential(torch.nn.BatchNorm2d(in_filter), activation(),\n",
    "                                        torch.nn.Conv2d(in_filter, filter, 1, 1, bias=False),\n",
    "                                        torch.nn.BatchNorm2d(filter), activation(),\n",
    "                                        torch.nn.Conv2d(filter, filter, 3, stride, 1, bias=False),\n",
    "                                        torch.nn.BatchNorm2d(filter), activation(),\n",
    "                                        torch.nn.Conv2d(filter, out_filter, 1, 1, bias=False))\n",
    "        self.residual = torch.nn.Sequential()\n",
    "        if in_filter != out_filter:\n",
    "            self.residual.append(torch.nn.Conv2d(in_filter, out_filter, 1, stride))\n",
    "\n",
    "    def forward(self, x):\n",
    "        return torch.add(self.bottle(x), self.residual(x))\n",
    "\n",
    "\n",
    "class ResNet_v2(torch.nn.Module):\n",
    "    def __init__(self, filters, block, activation=torch.nn.ReLU, input_channel=1, out_shape=10) -> None:\n",
    "        super().__init__()\n",
    "        init_filter = input_channel\n",
    "        self.resnet = torch.nn.Sequential(torch.nn.Conv2d(init_filter, 64, 7, 2, padding=3, bias=False), \n",
    "                                            torch.nn.BatchNorm2d(64), torch.nn.ReLU(),\n",
    "                                            torch.nn.MaxPool2d(3,2,1))\n",
    "        init_filter = 64\n",
    "        for i, filter in enumerate(filters):\n",
    "            stride = 1 if filter == init_filter or i == 0 else 2\n",
    "            self.resnet.append(block(init_filter, filter, stride, activation))\n",
    "            init_filter = filter\n",
    "        self.fc_layer = torch.nn.Sequential(torch.nn.AdaptiveAvgPool2d((1, 1)), torch.nn.Flatten(),\n",
    "                        torch.nn.Linear(init_filter, out_shape))\n",
    "    \n",
    "    def forward(self, x):\n",
    "        x = self.resnet(x)\n",
    "        return self.fc_layer(x)\n"
   ]
  },
  {
   "cell_type": "code",
   "execution_count": 51,
   "metadata": {},
   "outputs": [
    {
     "name": "stdout",
     "output_type": "stream",
     "text": [
      "loss 0.110, train acc 0.959, test acc 0.909\n",
      "2033.3 examples/sec on cuda:0\n",
      "gpu_usage: 95.685 MB\n"
     ]
    },
    {
     "data": {
      "image/png": "[encoded data removed]",
      "text/plain": [
       "<Figure size 252x180 with 1 Axes>"
      ]
     },
     "metadata": {
      "needs_background": "light"
     },
     "output_type": "display_data"
    }
   ],
   "source": [
    "# 原网络最后一层输出2048， 这里考虑到信息瓶颈2048->10的问题，将结点数进行了减少。\n",
    "resnet_50 = ResNet_v2((32,)*3+(64,)*4+(128,)*6+(256,)*3, block=Bottleneck)\n",
    "resnet_50 = torch.nn.DataParallel(resnet_50)\n",
    "train_iter, test_iter = load_data_fashion_mnist(batch_size, 224)\n",
    "train_ch6(resnet_50, train_iter, test_iter, num_epochs-5, 0.1, try_gpu())\n",
    "print(f'gpu_usage: {torch.cuda.memory_allocated()/(1024*1024):5.5} MB')\n",
    "torch.cuda.empty_cache()"
   ]
  },
  {
   "cell_type": "code",
   "execution_count": null,
   "metadata": {},
   "outputs": [],
   "source": [
    "#T2\n",
    "#resnet_18 = ResNet_v2((64,)*2+(128,)*2+(256,)*2+(512,)*2, block=Residual)\n",
    "#resnet_36 = ResNet_v2((64,)*3+(128,)*4+(256,)*6+(512,)*3, block=Residual)\n",
    "#resnet_50 = ResNet_v2((256,)*3+(512,)*4+(1024,)*6+(2048,)*3, block=Bottleneck)\n",
    "#resnet_101 = ResNet_v2((256,)*3+(512,)*4+(1024,)*23+(2048,)*3, block=Bottleneck)\n",
    "#resnet_152 = ResNet_v2((256,)*3+(512,)*8+(1024,)*36+(2048,)*3, block=Bottleneck)\n"
   ]
  },
  {
   "cell_type": "markdown",
   "metadata": {},
   "source": [
    "# homework ch7 sec 7"
   ]
  },
  {
   "cell_type": "code",
   "execution_count": 52,
   "metadata": {},
   "outputs": [],
   "source": [
    "def conv_block(input_channels, num_channels):\n",
    "    return torch.nn.Sequential(\n",
    "    torch.nn.BatchNorm2d(input_channels), torch.nn.ReLU(),\n",
    "    torch.nn.Conv2d(input_channels, num_channels, kernel_size=3, padding=1))\n",
    "\n",
    "class DenseBlock(torch.nn.Module):\n",
    "    def __init__(self, num_convs, input_channels, num_channels, drop_rate):\n",
    "        super().__init__()\n",
    "        self.block = torch.nn.Sequential(*[conv_block(num_channels * i + input_channels, num_channels) for i in range(num_convs)])\n",
    "        self.drop = torch.nn.Dropout(p=drop_rate)\n",
    "        \n",
    "    def forward(self, x):\n",
    "        for blk in self.block:\n",
    "            y = blk(x)\n",
    "            y = self.drop(y)\n",
    "            x = torch.cat((x, y), dim=1)\n",
    "        return x\n",
    "\n",
    "def TransitionBlock(input_channels, num_channels):\n",
    "    return torch.nn.Sequential(\n",
    "            torch.nn.BatchNorm2d(input_channels), torch.nn.ReLU(),\n",
    "            torch.nn.Conv2d(input_channels, num_channels, kernel_size=1),\n",
    "            torch.nn.AvgPool2d(kernel_size=2, stride=2))\n",
    "\n",
    "class DenseNet(torch.nn.Module):\n",
    "    def __init__(self, growth_rate, block_config, num_init_feature=64, input_channel=1,\n",
    "                    bn_size=4, drop_rate=0.5, num_class=10) -> None:\n",
    "        super().__init__()\n",
    "        self.convpart = torch.nn.Sequential(torch.nn.Conv2d(input_channel, num_init_feature, 7, 2, padding=3, bias=False), \n",
    "                                            torch.nn.BatchNorm2d(64), torch.nn.ReLU(),\n",
    "                                            torch.nn.MaxPool2d(3,2,1))\n",
    "        num_feature = num_init_feature\n",
    "        self.densepart = torch.nn.Sequential()\n",
    "        for i, num_layer in enumerate(block_config):\n",
    "            self.densepart.append(DenseBlock(num_layer, num_feature, growth_rate, drop_rate))\n",
    "            num_feature += growth_rate*num_layer\n",
    "            if i != len(block_config):\n",
    "                self.densepart.append(TransitionBlock(num_feature, num_feature//2))\n",
    "                num_feature //= 2\n",
    "        self.fc_layer = torch.nn.Sequential(torch.nn.BatchNorm2d(num_feature), torch.nn.ReLU(),\n",
    "                        torch.nn.AdaptiveAvgPool2d((1, 1)), torch.nn.Flatten(),\n",
    "                        torch.nn.Linear(num_feature, num_class))\n",
    "    \n",
    "    def forward(self, x):\n",
    "        x = self.convpart(x)\n",
    "        x = self.densepart(x)\n",
    "        x = self.fc_layer(x)\n",
    "        return x"
   ]
  },
  {
   "cell_type": "code",
   "execution_count": 53,
   "metadata": {},
   "outputs": [
    {
     "data": {
      "text/plain": [
       "tensor([[-0.3285,  0.0955,  0.3279,  0.0486,  0.0717,  0.0013, -0.5254,  0.3822,\n",
       "         -0.0375,  0.1273]], grad_fn=<AddmmBackward0>)"
      ]
     },
     "execution_count": 53,
     "metadata": {},
     "output_type": "execute_result"
    }
   ],
   "source": [
    "test = DenseNet(32, (6, 12, 24, 16))\n",
    "x = torch.rand(1, 1, 224, 224)\n",
    "test(x)"
   ]
  },
  {
   "cell_type": "code",
   "execution_count": 54,
   "metadata": {},
   "outputs": [
    {
     "name": "stdout",
     "output_type": "stream",
     "text": [
      "loss 0.179, train acc 0.935, test acc 0.904\n",
      "565.6 examples/sec on cuda:0\n",
      "gpu_usage: 176.58 MB\n"
     ]
    },
    {
     "data": {
      "image/png": "[encoded data removed]",
      "text/plain": [
       "<Figure size 252x180 with 1 Axes>"
      ]
     },
     "metadata": {
      "needs_background": "light"
     },
     "output_type": "display_data"
    }
   ],
   "source": [
    "densenet = DenseNet(32, (6, 12, 24, 16))\n",
    "densenet = torch.nn.DataParallel(densenet)\n",
    "train_iter, test_iter = load_data_fashion_mnist(batch_size, 224)\n",
    "train_ch6(densenet, train_iter, test_iter, num_epochs, 0.1, try_gpu())\n",
    "print(f'gpu_usage: {torch.cuda.memory_allocated()/(1024*1024):5.5} MB')\n",
    "torch.cuda.empty_cache()"
   ]
  },
  {
   "cell_type": "code",
   "execution_count": null,
   "metadata": {},
   "outputs": [],
   "source": [
    "#T4\n",
    "#densenet_121 = DenseNet(32, (6, 12, 24, 16))\n",
    "#densenet_169 = DenseNet(32, (6, 12, 32, 32))\n",
    "#densenet_201 = DenseNet(32, (6, 12, 48, 32))\n",
    "#densenet_264 = DenseNet(32, (6, 12, 64, 48))"
   ]
  },
  {
   "cell_type": "code",
   "execution_count": null,
   "metadata": {},
   "outputs": [],
   "source": []
  }
 ],
 "metadata": {
  "interpreter": {
   "hash": "b3ba2566441a7c06988d0923437866b63cedc61552a5af99d1f4fb67d367b25f"
  },
  "kernelspec": {
   "display_name": "Python 3.9.7 ('base')",
   "language": "python",
   "name": "python3"
  },
  "language_info": {
   "codemirror_mode": {
    "name": "ipython",
    "version": 3
   },
   "file_extension": ".py",
   "mimetype": "text/x-python",
   "name": "python",
   "nbconvert_exporter": "python",
   "pygments_lexer": "ipython3",
   "version": "3.9.7"
  },
  "orig_nbformat": 4
 },
 "nbformat": 4,
 "nbformat_minor": 2
}
