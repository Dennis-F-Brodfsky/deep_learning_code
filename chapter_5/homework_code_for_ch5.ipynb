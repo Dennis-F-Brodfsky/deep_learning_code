{
 "cells": [
  {
   "cell_type": "code",
   "execution_count": 1,
   "metadata": {},
   "outputs": [],
   "source": [
    "import torch"
   ]
  },
  {
   "cell_type": "markdown",
   "metadata": {},
   "source": [
    "## code from d2l package"
   ]
  },
  {
   "cell_type": "code",
   "execution_count": 2,
   "metadata": {},
   "outputs": [
    {
     "name": "stdout",
     "output_type": "stream",
     "text": [
      "Wed Jun 01 22:16:43 2022       \n",
      "+-----------------------------------------------------------------------------+\n",
      "| NVIDIA-SMI 456.71       Driver Version: 456.71       CUDA Version: 11.1     |\n",
      "|-------------------------------+----------------------+----------------------+\n",
      "| GPU  Name            TCC/WDDM | Bus-Id        Disp.A | Volatile Uncorr. ECC |\n",
      "| Fan  Temp  Perf  Pwr:Usage/Cap|         Memory-Usage | GPU-Util  Compute M. |\n",
      "|===============================+======================+======================|\n",
      "|   0  GeForce RTX 3090   WDDM  | 00000000:04:00.0 Off |                  N/A |\n",
      "| 48%   51C    P2   109W / 350W |    643MiB / 24576MiB |      0%      Default |\n",
      "+-------------------------------+----------------------+----------------------+\n",
      "|   1  GeForce RTX 3090   WDDM  | 00000000:65:00.0  On |                  N/A |\n",
      "| 30%   36C    P8    12W / 350W |    255MiB / 24576MiB |      0%      Default |\n",
      "+-------------------------------+----------------------+----------------------+\n",
      "                                                                               \n",
      "+-----------------------------------------------------------------------------+\n",
      "| Processes:                                                                  |\n",
      "|  GPU   GI   CI        PID   Type   Process name                  GPU Memory |\n",
      "|        ID   ID                                                   Usage      |\n",
      "|=============================================================================|\n",
      "|    0   N/A  N/A      3480    C+G   Insufficient Permissions        N/A      |\n",
      "|    0   N/A  N/A      6964    C+G   Insufficient Permissions        N/A      |\n",
      "|    0   N/A  N/A      7268    C+G   Insufficient Permissions        N/A      |\n",
      "|    0   N/A  N/A      7976    C+G   Insufficient Permissions        N/A      |\n",
      "|    0   N/A  N/A      7992    C+G   Insufficient Permissions        N/A      |\n",
      "|    0   N/A  N/A      9976    C+G   Insufficient Permissions        N/A      |\n",
      "|    0   N/A  N/A     11568    C+G   Insufficient Permissions        N/A      |\n",
      "|    0   N/A  N/A     12840    C+G   Insufficient Permissions        N/A      |\n",
      "|    0   N/A  N/A     12864    C+G   Insufficient Permissions        N/A      |\n",
      "|    0   N/A  N/A     13032    C+G   Insufficient Permissions        N/A      |\n",
      "|    0   N/A  N/A     14260    C+G   Insufficient Permissions        N/A      |\n",
      "|    0   N/A  N/A     15252    C+G   Insufficient Permissions        N/A      |\n",
      "|    0   N/A  N/A     15356      C   ...Data\\Anaconda3\\python.exe    N/A      |\n",
      "|    0   N/A  N/A     15808    C+G   Insufficient Permissions        N/A      |\n",
      "|    0   N/A  N/A     16324    C+G   Insufficient Permissions        N/A      |\n",
      "|    0   N/A  N/A     19968    C+G   C:\\Windows\\explorer.exe         N/A      |\n",
      "|    0   N/A  N/A     20460    C+G   Insufficient Permissions        N/A      |\n",
      "|    0   N/A  N/A     20656    C+G   Insufficient Permissions        N/A      |\n",
      "|    0   N/A  N/A     20788    C+G   Insufficient Permissions        N/A      |\n",
      "|    0   N/A  N/A     20836    C+G   ...w5n1h2txyewy\\SearchUI.exe    N/A      |\n",
      "|    0   N/A  N/A     21248    C+G   ...y\\ShellExperienceHost.exe    N/A      |\n",
      "|    0   N/A  N/A     23084    C+G   Insufficient Permissions        N/A      |\n",
      "|    1   N/A  N/A      1244    C+G   Insufficient Permissions        N/A      |\n",
      "|    1   N/A  N/A      1264    C+G   Insufficient Permissions        N/A      |\n",
      "+-----------------------------------------------------------------------------+\n"
     ]
    }
   ],
   "source": [
    "!nvidia-smi"
   ]
  },
  {
   "cell_type": "code",
   "execution_count": 3,
   "metadata": {},
   "outputs": [],
   "source": [
    "class MLP(torch.nn.Module):\n",
    "    def __init__(self):\n",
    "        super().__init__()# 父类构造函数\n",
    "        self.hidden = torch.nn.Linear(20, 256)  # 隐藏层\n",
    "        self.out = torch.nn.Linear(256, 10)  # 输出层\n",
    "\n",
    "    # 定义模型的前向传播，即如何根据输入X返回所需的模型输出\n",
    "    def forward(self, X):\n",
    "        # 注意，这里我们使用ReLU的函数版本，其在torch.nn.functional模块中定义。\n",
    "        return self.out(torch.nn.functional.relu(self.hidden(X)))\n",
    "\n",
    "\n",
    "def try_gpu(i=0):\n",
    "    if torch.cuda.device_count() >= i + 1:\n",
    "        return torch.device(f'cuda:{i}')\n",
    "    return torch.device('cpu')\n",
    "\n",
    "def try_all_gpus():\n",
    "    devices = [torch.device(f'cuda:{i}')\n",
    "             for i in range(torch.cuda.device_count())]\n",
    "    return devices if devices else [torch.device('cpu')]"
   ]
  },
  {
   "cell_type": "markdown",
   "metadata": {},
   "source": [
    "## homework code for ch5 sec1"
   ]
  },
  {
   "cell_type": "code",
   "execution_count": 4,
   "metadata": {},
   "outputs": [
    {
     "data": {
      "text/plain": [
       "torch.Size([5, 10])"
      ]
     },
     "execution_count": 4,
     "metadata": {},
     "output_type": "execute_result"
    }
   ],
   "source": [
    "#T1\n",
    "class Concat(torch.nn.Module):\n",
    "    def __init__(self, block=None, count=2, *blocks, **kwargs):\n",
    "        '''\n",
    "        利用block构建平行网络，可以是count个同种block，或者手动指定已经初始化的自定义blocks\n",
    "        '''\n",
    "        super().__init__()\n",
    "        if block:\n",
    "            self.blocks = torch.nn.ModuleList([block(**kwargs) for _ in range(count)])\n",
    "        else:\n",
    "            self.blocks = torch.nn.ModuleList(*blocks)\n",
    "    \n",
    "    def forward(self, x):\n",
    "        return torch.cat(tuple(block(x) for block in self.blocks), dim=1)\n",
    "\n",
    "\n",
    "t = Concat(block=torch.nn.Linear, count=2, in_features=10, out_features=5)\n",
    "t(torch.rand((5, 10))).shape"
   ]
  },
  {
   "cell_type": "code",
   "execution_count": 5,
   "metadata": {},
   "outputs": [
    {
     "name": "stdout",
     "output_type": "stream",
     "text": [
      "Concat(\n",
      "  (blocks): ModuleList(\n",
      "    (0): Linear(in_features=10, out_features=5, bias=True)\n",
      "    (1): Linear(in_features=10, out_features=5, bias=True)\n",
      "  )\n",
      ")\n",
      "OrderedDict([('blocks', ModuleList(\n",
      "  (0): Linear(in_features=10, out_features=5, bias=True)\n",
      "  (1): Linear(in_features=10, out_features=5, bias=True)\n",
      "))])\n"
     ]
    }
   ],
   "source": [
    "print(t)\n",
    "print(t._modules)"
   ]
  },
  {
   "cell_type": "code",
   "execution_count": 6,
   "metadata": {},
   "outputs": [
    {
     "name": "stdout",
     "output_type": "stream",
     "text": [
      "Concat(\n",
      "  (blocks): ModuleList(\n",
      "    (0): Linear(in_features=10, out_features=5, bias=True)\n",
      "    (1): Linear(in_features=10, out_features=5, bias=True)\n",
      "    (2): Linear(in_features=10, out_features=5, bias=True)\n",
      "    (3): Linear(in_features=10, out_features=5, bias=True)\n",
      "    (4): Linear(in_features=10, out_features=5, bias=True)\n",
      "  )\n",
      ")\n"
     ]
    }
   ],
   "source": [
    "#T2 工厂函数的意思就是，返回一类对象实例的函数。\n",
    "def torch_factory(block, count, **kwargs):\n",
    "    return Concat(block=block, count=count, **kwargs)\n",
    "\n",
    "\n",
    "print(torch_factory(torch.nn.Linear, 5, in_features=10, out_features=5))"
   ]
  },
  {
   "cell_type": "markdown",
   "metadata": {},
   "source": [
    "## homework code for ch5 sec2"
   ]
  },
  {
   "cell_type": "code",
   "execution_count": 7,
   "metadata": {},
   "outputs": [
    {
     "name": "stdout",
     "output_type": "stream",
     "text": [
      "Parameter containing:\n",
      "tensor([[ 0.0876,  0.2014, -0.1997,  ..., -0.0964, -0.1175, -0.0261],\n",
      "        [ 0.0434,  0.1954,  0.0686,  ..., -0.2101, -0.1825,  0.1632],\n",
      "        [-0.0588, -0.1238, -0.0128,  ..., -0.1722, -0.2157, -0.1051],\n",
      "        ...,\n",
      "        [ 0.1973, -0.0645, -0.1410,  ..., -0.1386,  0.1426, -0.0180],\n",
      "        [ 0.2084, -0.1913,  0.1983,  ..., -0.0404, -0.1468, -0.2148],\n",
      "        [ 0.0262, -0.0401, -0.0232,  ...,  0.1988,  0.0845,  0.2073]],\n",
      "       requires_grad=True)\n",
      "Parameter containing:\n",
      "tensor([-2.1719e-01, -1.6592e-01,  1.5490e-01, -1.3255e-01, -1.5105e-03,\n",
      "         2.2077e-01,  7.6267e-02, -3.4467e-02, -1.8140e-01,  9.1054e-02,\n",
      "         2.0278e-01,  2.3464e-02,  1.7050e-01,  4.5233e-02,  7.1811e-02,\n",
      "        -1.9127e-01, -1.3227e-01, -1.0372e-01, -1.8215e-01, -7.5810e-02,\n",
      "        -1.9380e-01, -1.8864e-01,  7.5412e-02,  2.4623e-02, -3.5399e-02,\n",
      "         1.3543e-01,  9.9011e-02, -1.2826e-01,  2.0938e-01,  5.5167e-02,\n",
      "        -1.6369e-01,  1.2675e-01, -1.4339e-01,  7.0082e-02,  7.3797e-02,\n",
      "        -7.2448e-02, -2.2473e-02,  5.5860e-02,  1.6657e-01,  1.4352e-01,\n",
      "         3.4920e-02, -2.3502e-02,  5.4339e-02,  1.3875e-01, -9.1066e-02,\n",
      "        -2.4100e-02, -6.1500e-04, -7.4016e-03, -1.1838e-01,  1.6199e-01,\n",
      "         2.0644e-01, -3.9255e-02,  1.1514e-01, -2.2278e-01, -2.1420e-01,\n",
      "         1.5162e-04, -1.6660e-01, -1.8816e-01, -6.8777e-02,  1.5272e-01,\n",
      "         2.0944e-01,  4.5172e-02,  8.9285e-02, -1.2562e-01,  3.1171e-03,\n",
      "        -3.6672e-02,  1.2658e-01,  2.7715e-03, -2.7440e-02,  1.9915e-01,\n",
      "        -6.9678e-02,  2.7813e-02, -1.5813e-01, -1.6588e-02,  1.0261e-01,\n",
      "        -6.5046e-02, -4.0131e-02, -1.2407e-01,  9.1505e-02, -1.7655e-01,\n",
      "         1.9511e-02,  1.6520e-01, -1.0928e-01,  7.4460e-02,  1.1470e-01,\n",
      "        -1.0105e-02, -1.8225e-01, -2.7092e-02, -1.4107e-01, -1.9613e-01,\n",
      "         6.7058e-04, -3.7181e-02, -1.0620e-01,  1.9225e-02, -3.8608e-02,\n",
      "         7.9984e-02,  5.1407e-02,  1.2394e-01,  1.7149e-01,  2.4445e-02,\n",
      "         1.6862e-01, -1.1169e-01,  1.0964e-02,  1.8981e-01,  7.9115e-02,\n",
      "         1.7520e-01,  2.0600e-01,  7.4669e-02, -9.3569e-02,  4.4056e-02,\n",
      "         1.4168e-01, -2.0668e-01,  4.9080e-02, -8.4322e-03, -1.3067e-01,\n",
      "        -1.0484e-01, -1.6197e-01,  2.2354e-03, -2.4960e-03,  2.0317e-01,\n",
      "        -2.0541e-01,  1.7270e-01, -5.6151e-02, -2.8336e-02, -1.5082e-01,\n",
      "         1.4905e-01, -1.5595e-01,  1.3417e-01, -7.8555e-02, -4.0526e-02,\n",
      "        -1.3846e-01, -9.2966e-02, -8.7884e-02,  1.5921e-01,  9.1397e-02,\n",
      "         6.9153e-02, -1.5389e-01, -9.8628e-02,  1.7798e-01, -2.1901e-02,\n",
      "        -1.2221e-01, -1.6946e-01, -1.0803e-01,  2.0736e-01,  4.1579e-02,\n",
      "         1.0729e-01, -1.6516e-01,  6.3435e-02, -6.6865e-02,  1.5454e-01,\n",
      "         1.7787e-01,  6.6363e-02, -1.4366e-01, -1.6762e-02, -1.3877e-01,\n",
      "        -1.5557e-01,  2.4568e-02, -1.1046e-01, -1.1263e-01, -8.6163e-02,\n",
      "        -2.2266e-01,  1.1936e-01,  1.1325e-01, -1.5300e-01,  3.6928e-02,\n",
      "        -7.0072e-02, -9.5346e-02, -3.1819e-02, -1.9965e-01,  3.3038e-03,\n",
      "         2.2180e-01, -9.4392e-02,  4.7006e-04,  1.0372e-02, -2.1216e-02,\n",
      "        -1.7678e-01, -2.2293e-01, -8.6227e-02, -1.7073e-01, -1.2623e-01,\n",
      "        -1.3985e-01, -1.8645e-01, -1.5832e-01, -1.1962e-01, -2.2226e-01,\n",
      "         1.0996e-01, -1.5110e-01,  1.3981e-01,  2.0932e-01,  2.4169e-02,\n",
      "         1.0145e-01, -8.1281e-02,  3.8806e-02, -1.2036e-01, -1.3358e-01,\n",
      "        -3.2503e-02, -1.6409e-01,  1.4135e-01,  9.7642e-02,  2.0581e-01,\n",
      "        -1.4040e-01, -2.8223e-02,  2.2004e-02, -1.8100e-01, -2.1009e-01,\n",
      "        -6.9681e-02,  3.2773e-02, -1.5477e-01,  2.1986e-01, -1.6345e-01,\n",
      "         1.4323e-01,  1.7103e-02,  1.3286e-01,  8.1545e-02,  1.5548e-01,\n",
      "        -1.2046e-01, -1.9346e-01, -1.3112e-01,  8.2526e-02,  1.9949e-01,\n",
      "        -1.2371e-01, -1.2575e-01, -1.4672e-01,  1.8116e-02, -5.3079e-02,\n",
      "         1.1835e-01, -1.6487e-02,  1.1773e-01, -1.2922e-01,  1.2962e-01,\n",
      "        -8.1849e-03,  2.1097e-01, -1.3652e-01, -6.3502e-02,  1.8099e-01,\n",
      "        -6.1298e-02, -1.0651e-01,  5.6690e-02,  1.0406e-01,  2.4342e-02,\n",
      "        -3.8799e-02,  3.1276e-02, -1.5859e-01,  9.1339e-02,  8.5352e-02,\n",
      "         3.5655e-02,  1.8608e-01,  2.0897e-01,  6.8387e-02, -1.1620e-01,\n",
      "        -5.9773e-04,  2.3814e-02, -1.9996e-01, -1.5192e-01,  9.6577e-02,\n",
      "         3.9476e-02], requires_grad=True)\n",
      "Parameter containing:\n",
      "tensor([[ 0.0417, -0.0127,  0.0203,  ..., -0.0328, -0.0133,  0.0150],\n",
      "        [-0.0445, -0.0570, -0.0420,  ...,  0.0219,  0.0283,  0.0392],\n",
      "        [-0.0162, -0.0130,  0.0449,  ..., -0.0161, -0.0166, -0.0462],\n",
      "        ...,\n",
      "        [-0.0433, -0.0360, -0.0227,  ...,  0.0075, -0.0292,  0.0316],\n",
      "        [-0.0314,  0.0130, -0.0138,  ...,  0.0568,  0.0469, -0.0582],\n",
      "        [-0.0461,  0.0020, -0.0432,  ...,  0.0261,  0.0070, -0.0401]],\n",
      "       requires_grad=True)\n",
      "Parameter containing:\n",
      "tensor([ 0.0133, -0.0212, -0.0461, -0.0279,  0.0026,  0.0168,  0.0272, -0.0277,\n",
      "        -0.0288, -0.0047], requires_grad=True)\n"
     ]
    }
   ],
   "source": [
    "model = MLP()\n",
    "for param in model.parameters():\n",
    "    print(param)"
   ]
  },
  {
   "cell_type": "code",
   "execution_count": 8,
   "metadata": {},
   "outputs": [
    {
     "name": "stdout",
     "output_type": "stream",
     "text": [
      "('hidden.weight', Parameter containing:\n",
      "tensor([[ 0.0876,  0.2014, -0.1997,  ..., -0.0964, -0.1175, -0.0261],\n",
      "        [ 0.0434,  0.1954,  0.0686,  ..., -0.2101, -0.1825,  0.1632],\n",
      "        [-0.0588, -0.1238, -0.0128,  ..., -0.1722, -0.2157, -0.1051],\n",
      "        ...,\n",
      "        [ 0.1973, -0.0645, -0.1410,  ..., -0.1386,  0.1426, -0.0180],\n",
      "        [ 0.2084, -0.1913,  0.1983,  ..., -0.0404, -0.1468, -0.2148],\n",
      "        [ 0.0262, -0.0401, -0.0232,  ...,  0.1988,  0.0845,  0.2073]],\n",
      "       requires_grad=True))\n",
      "('hidden.bias', Parameter containing:\n",
      "tensor([-2.1719e-01, -1.6592e-01,  1.5490e-01, -1.3255e-01, -1.5105e-03,\n",
      "         2.2077e-01,  7.6267e-02, -3.4467e-02, -1.8140e-01,  9.1054e-02,\n",
      "         2.0278e-01,  2.3464e-02,  1.7050e-01,  4.5233e-02,  7.1811e-02,\n",
      "        -1.9127e-01, -1.3227e-01, -1.0372e-01, -1.8215e-01, -7.5810e-02,\n",
      "        -1.9380e-01, -1.8864e-01,  7.5412e-02,  2.4623e-02, -3.5399e-02,\n",
      "         1.3543e-01,  9.9011e-02, -1.2826e-01,  2.0938e-01,  5.5167e-02,\n",
      "        -1.6369e-01,  1.2675e-01, -1.4339e-01,  7.0082e-02,  7.3797e-02,\n",
      "        -7.2448e-02, -2.2473e-02,  5.5860e-02,  1.6657e-01,  1.4352e-01,\n",
      "         3.4920e-02, -2.3502e-02,  5.4339e-02,  1.3875e-01, -9.1066e-02,\n",
      "        -2.4100e-02, -6.1500e-04, -7.4016e-03, -1.1838e-01,  1.6199e-01,\n",
      "         2.0644e-01, -3.9255e-02,  1.1514e-01, -2.2278e-01, -2.1420e-01,\n",
      "         1.5162e-04, -1.6660e-01, -1.8816e-01, -6.8777e-02,  1.5272e-01,\n",
      "         2.0944e-01,  4.5172e-02,  8.9285e-02, -1.2562e-01,  3.1171e-03,\n",
      "        -3.6672e-02,  1.2658e-01,  2.7715e-03, -2.7440e-02,  1.9915e-01,\n",
      "        -6.9678e-02,  2.7813e-02, -1.5813e-01, -1.6588e-02,  1.0261e-01,\n",
      "        -6.5046e-02, -4.0131e-02, -1.2407e-01,  9.1505e-02, -1.7655e-01,\n",
      "         1.9511e-02,  1.6520e-01, -1.0928e-01,  7.4460e-02,  1.1470e-01,\n",
      "        -1.0105e-02, -1.8225e-01, -2.7092e-02, -1.4107e-01, -1.9613e-01,\n",
      "         6.7058e-04, -3.7181e-02, -1.0620e-01,  1.9225e-02, -3.8608e-02,\n",
      "         7.9984e-02,  5.1407e-02,  1.2394e-01,  1.7149e-01,  2.4445e-02,\n",
      "         1.6862e-01, -1.1169e-01,  1.0964e-02,  1.8981e-01,  7.9115e-02,\n",
      "         1.7520e-01,  2.0600e-01,  7.4669e-02, -9.3569e-02,  4.4056e-02,\n",
      "         1.4168e-01, -2.0668e-01,  4.9080e-02, -8.4322e-03, -1.3067e-01,\n",
      "        -1.0484e-01, -1.6197e-01,  2.2354e-03, -2.4960e-03,  2.0317e-01,\n",
      "        -2.0541e-01,  1.7270e-01, -5.6151e-02, -2.8336e-02, -1.5082e-01,\n",
      "         1.4905e-01, -1.5595e-01,  1.3417e-01, -7.8555e-02, -4.0526e-02,\n",
      "        -1.3846e-01, -9.2966e-02, -8.7884e-02,  1.5921e-01,  9.1397e-02,\n",
      "         6.9153e-02, -1.5389e-01, -9.8628e-02,  1.7798e-01, -2.1901e-02,\n",
      "        -1.2221e-01, -1.6946e-01, -1.0803e-01,  2.0736e-01,  4.1579e-02,\n",
      "         1.0729e-01, -1.6516e-01,  6.3435e-02, -6.6865e-02,  1.5454e-01,\n",
      "         1.7787e-01,  6.6363e-02, -1.4366e-01, -1.6762e-02, -1.3877e-01,\n",
      "        -1.5557e-01,  2.4568e-02, -1.1046e-01, -1.1263e-01, -8.6163e-02,\n",
      "        -2.2266e-01,  1.1936e-01,  1.1325e-01, -1.5300e-01,  3.6928e-02,\n",
      "        -7.0072e-02, -9.5346e-02, -3.1819e-02, -1.9965e-01,  3.3038e-03,\n",
      "         2.2180e-01, -9.4392e-02,  4.7006e-04,  1.0372e-02, -2.1216e-02,\n",
      "        -1.7678e-01, -2.2293e-01, -8.6227e-02, -1.7073e-01, -1.2623e-01,\n",
      "        -1.3985e-01, -1.8645e-01, -1.5832e-01, -1.1962e-01, -2.2226e-01,\n",
      "         1.0996e-01, -1.5110e-01,  1.3981e-01,  2.0932e-01,  2.4169e-02,\n",
      "         1.0145e-01, -8.1281e-02,  3.8806e-02, -1.2036e-01, -1.3358e-01,\n",
      "        -3.2503e-02, -1.6409e-01,  1.4135e-01,  9.7642e-02,  2.0581e-01,\n",
      "        -1.4040e-01, -2.8223e-02,  2.2004e-02, -1.8100e-01, -2.1009e-01,\n",
      "        -6.9681e-02,  3.2773e-02, -1.5477e-01,  2.1986e-01, -1.6345e-01,\n",
      "         1.4323e-01,  1.7103e-02,  1.3286e-01,  8.1545e-02,  1.5548e-01,\n",
      "        -1.2046e-01, -1.9346e-01, -1.3112e-01,  8.2526e-02,  1.9949e-01,\n",
      "        -1.2371e-01, -1.2575e-01, -1.4672e-01,  1.8116e-02, -5.3079e-02,\n",
      "         1.1835e-01, -1.6487e-02,  1.1773e-01, -1.2922e-01,  1.2962e-01,\n",
      "        -8.1849e-03,  2.1097e-01, -1.3652e-01, -6.3502e-02,  1.8099e-01,\n",
      "        -6.1298e-02, -1.0651e-01,  5.6690e-02,  1.0406e-01,  2.4342e-02,\n",
      "        -3.8799e-02,  3.1276e-02, -1.5859e-01,  9.1339e-02,  8.5352e-02,\n",
      "         3.5655e-02,  1.8608e-01,  2.0897e-01,  6.8387e-02, -1.1620e-01,\n",
      "        -5.9773e-04,  2.3814e-02, -1.9996e-01, -1.5192e-01,  9.6577e-02,\n",
      "         3.9476e-02], requires_grad=True))\n",
      "('out.weight', Parameter containing:\n",
      "tensor([[ 0.0417, -0.0127,  0.0203,  ..., -0.0328, -0.0133,  0.0150],\n",
      "        [-0.0445, -0.0570, -0.0420,  ...,  0.0219,  0.0283,  0.0392],\n",
      "        [-0.0162, -0.0130,  0.0449,  ..., -0.0161, -0.0166, -0.0462],\n",
      "        ...,\n",
      "        [-0.0433, -0.0360, -0.0227,  ...,  0.0075, -0.0292,  0.0316],\n",
      "        [-0.0314,  0.0130, -0.0138,  ...,  0.0568,  0.0469, -0.0582],\n",
      "        [-0.0461,  0.0020, -0.0432,  ...,  0.0261,  0.0070, -0.0401]],\n",
      "       requires_grad=True))\n",
      "('out.bias', Parameter containing:\n",
      "tensor([ 0.0133, -0.0212, -0.0461, -0.0279,  0.0026,  0.0168,  0.0272, -0.0277,\n",
      "        -0.0288, -0.0047], requires_grad=True))\n"
     ]
    }
   ],
   "source": [
    "for named_param in model.named_parameters():\n",
    "    print(named_param)"
   ]
  },
  {
   "cell_type": "code",
   "execution_count": 9,
   "metadata": {},
   "outputs": [
    {
     "name": "stdout",
     "output_type": "stream",
     "text": [
      "None\n"
     ]
    }
   ],
   "source": [
    "print(model.out.weight.grad)"
   ]
  },
  {
   "cell_type": "markdown",
   "metadata": {},
   "source": [
    "## homework code for ch5 sec3"
   ]
  },
  {
   "cell_type": "code",
   "execution_count": 10,
   "metadata": {},
   "outputs": [],
   "source": [
    "# T1\n",
    "class DimensionReduction(torch.nn.Module):\n",
    "    def __init__(self, input_dim, output_dim):\n",
    "        super().__init__()\n",
    "        self.weight = torch.rand((output_dim, input_dim, input_dim))\n",
    "\n",
    "    def forward(self, x):\n",
    "        return torch.cat(tuple((\n",
    "                                torch.sum(torch.cat(tuple(self.weight[k][i][j]*x[:, i:i+1]*x[:, j:j+1] \n",
    "                                                    for i in range(x.shape[1]) \n",
    "                                                    for j in range(x.shape[1])), dim=1), \n",
    "                                                    dim=1, keepdim=True)\n",
    "                                ) for k in range(self.weight.shape[0])), dim=1)\n"
   ]
  },
  {
   "cell_type": "code",
   "execution_count": 11,
   "metadata": {},
   "outputs": [],
   "source": [
    "# T2\n",
    "class FrotierLayer(torch.nn.Module):\n",
    "    def __init__(self):\n",
    "        super().__init__()\n",
    "\n",
    "    def forward(self, x):\n",
    "        x_f = torch.fft.fft(x)\n",
    "        return x_f[:, :round(x.shape[0]/2)]"
   ]
  },
  {
   "cell_type": "markdown",
   "metadata": {},
   "source": [
    "## homework code for ch5 sec4\n",
    "\n",
    "None\n",
    "\n",
    "## homework code for ch5 sec5"
   ]
  },
  {
   "cell_type": "code",
   "execution_count": 12,
   "metadata": {},
   "outputs": [],
   "source": [
    "# T1\n",
    "t1 = torch.rand((10000,10000))\n",
    "t2 = torch.rand((10000,10000))"
   ]
  },
  {
   "cell_type": "code",
   "execution_count": 13,
   "metadata": {},
   "outputs": [
    {
     "name": "stdout",
     "output_type": "stream",
     "text": [
      "Wall time: 1min 13s\n"
     ]
    }
   ],
   "source": [
    "%%time\n",
    "for _ in range(50):\n",
    "    t1 @ t2"
   ]
  },
  {
   "cell_type": "code",
   "execution_count": 14,
   "metadata": {},
   "outputs": [],
   "source": [
    "t1 = t1.to(try_gpu())\n",
    "t2 = t2.to(try_gpu())"
   ]
  },
  {
   "cell_type": "code",
   "execution_count": 15,
   "metadata": {},
   "outputs": [
    {
     "name": "stdout",
     "output_type": "stream",
     "text": [
      "Wall time: 976 ms\n"
     ]
    }
   ],
   "source": [
    "%%time\n",
    "for _ in range(50):\n",
    "    t1@t2"
   ]
  },
  {
   "cell_type": "code",
   "execution_count": 16,
   "metadata": {},
   "outputs": [],
   "source": [
    "# 释放gpu高内存\n",
    "del t1, t2"
   ]
  },
  {
   "cell_type": "code",
   "execution_count": 17,
   "metadata": {},
   "outputs": [],
   "source": [
    "t1 = torch.rand((10,10))\n",
    "t2 = torch.rand((10,10))"
   ]
  },
  {
   "cell_type": "code",
   "execution_count": 18,
   "metadata": {},
   "outputs": [
    {
     "name": "stdout",
     "output_type": "stream",
     "text": [
      "Wall time: 1.99 ms\n"
     ]
    }
   ],
   "source": [
    "%%time\n",
    "for _ in range(500):\n",
    "    t1 @ t2\n"
   ]
  },
  {
   "cell_type": "code",
   "execution_count": 19,
   "metadata": {},
   "outputs": [],
   "source": [
    "t1 = t1.to(try_gpu())\n",
    "t2 = t2.to(try_gpu())"
   ]
  },
  {
   "cell_type": "code",
   "execution_count": 20,
   "metadata": {},
   "outputs": [
    {
     "name": "stdout",
     "output_type": "stream",
     "text": [
      "Wall time: 19 ms\n"
     ]
    }
   ],
   "source": [
    "%%time\n",
    "for _ in range(500):\n",
    "    t1 @ t2"
   ]
  },
  {
   "cell_type": "code",
   "execution_count": 21,
   "metadata": {},
   "outputs": [],
   "source": [
    "#T4\n",
    "t1 = torch.rand((10000,10000)).to(try_gpu(0))\n",
    "t2 = torch.rand((10000,10000)).to(try_gpu(0))\n",
    "t3, t4 = t1.to(try_gpu(1)), t2.to(try_gpu(1))\n"
   ]
  },
  {
   "cell_type": "code",
   "execution_count": 22,
   "metadata": {},
   "outputs": [
    {
     "name": "stdout",
     "output_type": "stream",
     "text": [
      "Wall time: 2.99 ms\n"
     ]
    }
   ],
   "source": [
    "%%time\n",
    "for _ in range(100):\n",
    "    t1@t2\n"
   ]
  },
  {
   "cell_type": "code",
   "execution_count": 23,
   "metadata": {},
   "outputs": [
    {
     "name": "stdout",
     "output_type": "stream",
     "text": [
      "Wall time: 1.1 s\n"
     ]
    }
   ],
   "source": [
    "%%time\n",
    "for _ in range(50):\n",
    "    t1@t2\n",
    "    t3@t4"
   ]
  },
  {
   "cell_type": "code",
   "execution_count": null,
   "metadata": {},
   "outputs": [],
   "source": []
  }
 ],
 "metadata": {
  "interpreter": {
   "hash": "06f77016d31ee832f65100d09d66ee6db3390d0f686eae4accd2b20acd76aa64"
  },
  "kernelspec": {
   "display_name": "Python 3.9.12 ('ML')",
   "language": "python",
   "name": "python3"
  },
  "language_info": {
   "codemirror_mode": {
    "name": "ipython",
    "version": 3
   },
   "file_extension": ".py",
   "mimetype": "text/x-python",
   "name": "python",
   "nbconvert_exporter": "python",
   "pygments_lexer": "ipython3",
   "version": "3.9.7"
  },
  "orig_nbformat": 4
 },
 "nbformat": 4,
 "nbformat_minor": 2
}
